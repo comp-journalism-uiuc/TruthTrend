{
 "cells": [
  {
   "cell_type": "code",
   "execution_count": null,
   "metadata": {},
   "outputs": [],
   "source": [
    "import math\n",
    "import pandas as pd\n",
    "import numpy as np"
   ]
  },
  {
   "cell_type": "code",
   "execution_count": null,
   "metadata": {},
   "outputs": [],
   "source": [
    "benf = [round((math.log10(i+1) - math.log10(i))*100,1) for i in range(1, 10)]\n",
    "\n",
    "cons_path = \"wico-graph/Other_Graphs/\"\n",
    "non_cons_path = \"wico-graph/Non_Conspiracy_Graphs/\"\n",
    "g5_path = \"wico-graph/5G_Conspiracy_Graphs/\""
   ]
  },
  {
   "cell_type": "code",
   "execution_count": null,
   "metadata": {},
   "outputs": [],
   "source": [
    "def get_first(row):\n",
    "    num = row.time\n",
    "    if num == 0:\n",
    "        return 0\n",
    "    else:\n",
    "        return int(num / pow(10, int(math.log10(num))))"
   ]
  },
  {
   "cell_type": "code",
   "execution_count": null,
   "metadata": {},
   "outputs": [],
   "source": [
    "def get_mean_dif(nodes):\n",
    "    nodes[\"first_dig\"] = nodes.apply(lambda row : get_first(row), axis=1)\n",
    "    observed = nodes.first_dig.value_counts().sort_index()[1:].values\n",
    "    expected = [round(prob * len(nodes)/100) for prob in benf]\n",
    "    \n",
    "    if len(observed) != len(expected):\n",
    "        return 0\n",
    "    else:\n",
    "        return np.abs(observed - expected).mean()"
   ]
  },
  {
   "cell_type": "code",
   "execution_count": null,
   "metadata": {},
   "outputs": [],
   "source": [
    "def get_all_dif(path):\n",
    "    dif = []\n",
    "    for f in os.listdir(path):\n",
    "        nodes = pd.read_csv(path+f+\"/nodes.csv\")\n",
    "        if len(nodes) < 50:\n",
    "            continue\n",
    "        else:\n",
    "            mean_dif = get_mean_dif(nodes)\n",
    "            if (mean_dif == 0):\n",
    "                continue\n",
    "            dif.append(mean_dif)\n",
    "    return dif"
   ]
  },
  {
   "cell_type": "code",
   "execution_count": null,
   "metadata": {},
   "outputs": [],
   "source": [
    "cons_dif = get_all_dif(cons_path)"
   ]
  },
  {
   "cell_type": "code",
   "execution_count": null,
   "metadata": {},
   "outputs": [],
   "source": [
    "non_cons_dif = get_all_dif(non_cons_path)"
   ]
  },
  {
   "cell_type": "code",
   "execution_count": null,
   "metadata": {},
   "outputs": [],
   "source": [
    "g5_dif = get_all_dif(g5_path)"
   ]
  }
 ],
 "metadata": {
  "language_info": {
   "name": "python"
  },
  "orig_nbformat": 4
 },
 "nbformat": 4,
 "nbformat_minor": 2
}
