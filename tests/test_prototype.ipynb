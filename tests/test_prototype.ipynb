{
 "cells": [
  {
   "cell_type": "code",
   "execution_count": 23,
   "source": [
    "import sys\r\n",
    "sys.path.append(\"../src/zinfo\")\r\n",
    "\r\n",
    "# news scraping\r\n",
    "from news_scraper import get_trending_articles_today\r\n",
    "\r\n",
    "# clustering\r\n",
    "from article_clustering import get_vectorized_titles\r\n",
    "from article_clustering import cluster_articles\r\n",
    "\r\n",
    "# article selecting\r\n",
    "from article_selector import get_best_article_all_clusters"
   ],
   "outputs": [],
   "metadata": {}
  },
  {
   "cell_type": "code",
   "execution_count": null,
   "source": [
    "trending_news = get_trending_articles_today(5)"
   ],
   "outputs": [],
   "metadata": {}
  }
 ],
 "metadata": {
  "orig_nbformat": 4,
  "language_info": {
   "name": "python",
   "version": "3.8.5",
   "mimetype": "text/x-python",
   "codemirror_mode": {
    "name": "ipython",
    "version": 3
   },
   "pygments_lexer": "ipython3",
   "nbconvert_exporter": "python",
   "file_extension": ".py"
  },
  "kernelspec": {
   "name": "python3",
   "display_name": "Python 3.8.5 64-bit ('base': conda)"
  },
  "interpreter": {
   "hash": "bdb1f293a72cda3337025d9d00554afb1343cd7218118617db03a8cb5103ebd2"
  }
 },
 "nbformat": 4,
 "nbformat_minor": 2
}
