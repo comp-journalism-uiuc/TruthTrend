{
 "cells": [
  {
   "cell_type": "code",
   "execution_count": 1,
   "source": [
    "import sys\r\n",
    "import pandas as pd\r\n",
    "import numpy as np\r\n",
    "import os\r\n",
    "import matplotlib.pyplot as plt\r\n",
    "sys.path.append(\"..\")\r\n",
    "\r\n",
    "# news scraping\r\n",
    "from src.zinfo.news_scraper import NewsScraper\r\n",
    "\r\n",
    "# clustering\r\n",
    "from src.zinfo.article_clustering import get_vectorized_titles\r\n",
    "from src.zinfo.article_clustering import get_num_clusters_per_val\r\n",
    "from src.zinfo.article_clustering import cluster_articles\r\n",
    "\r\n",
    "# article selecting\r\n",
    "from src.zinfo.article_selector import get_best_article_all_clusters"
   ],
   "outputs": [],
   "metadata": {}
  },
  {
   "cell_type": "code",
   "execution_count": 50,
   "source": [
    "def switch_columns(df, col1, col2):\r\n",
    "    cols = list(df.columns)\r\n",
    "    a, b = cols.index(col1), cols.index(col2)\r\n",
    "    cols[b], cols[a] = cols[a], cols[b]\r\n",
    "    dframe = df[cols]\r\n",
    "    return dframe"
   ],
   "outputs": [],
   "metadata": {}
  },
  {
   "cell_type": "code",
   "execution_count": 3,
   "source": [
    "start_date = \"2021-08-13\"\r\n",
    "selected_news = pd.read_csv(\"../data/selected_articles.csv\")\r\n",
    "todays_articles = selected_news.loc[selected_news.date >= start_date]"
   ],
   "outputs": [],
   "metadata": {}
  },
  {
   "cell_type": "code",
   "execution_count": 63,
   "source": [
    "all_news = pd.read_csv(\"../data/all_news.csv\")\r\n",
    "selected_news = pd.read_csv(\"../data/selected_articles.csv\")"
   ],
   "outputs": [],
   "metadata": {}
  },
  {
   "cell_type": "code",
   "execution_count": 3,
   "source": [
    "clustered_news = cluster_articles(all_news)"
   ],
   "outputs": [
    {
     "output_type": "stream",
     "name": "stdout",
     "text": [
      "clustering articles...\n",
      "eps_val: 0.22\n",
      "min_samples: 3 \n",
      "target cluster num: 14\n"
     ]
    }
   ],
   "metadata": {}
  },
  {
   "cell_type": "code",
   "execution_count": 4,
   "source": [
    "summarized_news = get_best_article_all_clusters(clustered_news, all_news)"
   ],
   "outputs": [
    {
     "output_type": "stream",
     "name": "stdout",
     "text": [
      "selecting best articles out of each cluster\n"
     ]
    }
   ],
   "metadata": {}
  }
 ],
 "metadata": {
  "orig_nbformat": 4,
  "language_info": {
   "name": "python",
   "version": "3.8.5",
   "mimetype": "text/x-python",
   "codemirror_mode": {
    "name": "ipython",
    "version": 3
   },
   "pygments_lexer": "ipython3",
   "nbconvert_exporter": "python",
   "file_extension": ".py"
  },
  "kernelspec": {
   "name": "python3",
   "display_name": "Python 3.8.5 64-bit ('base': conda)"
  },
  "interpreter": {
   "hash": "bdb1f293a72cda3337025d9d00554afb1343cd7218118617db03a8cb5103ebd2"
  }
 },
 "nbformat": 4,
 "nbformat_minor": 2
}