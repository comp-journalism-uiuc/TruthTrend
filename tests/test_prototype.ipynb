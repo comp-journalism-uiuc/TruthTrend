{
 "cells": [
  {
   "cell_type": "code",
   "execution_count": 1,
   "source": [
    "import sys\r\n",
    "import pandas as pd\r\n",
    "import numpy as np\r\n",
    "import os\r\n",
    "import matplotlib.pyplot as plt\r\n",
    "sys.path.append(\"..\")\r\n",
    "\r\n",
    "# news scraping\r\n",
    "from src.zinfo.news_scraper import NewsScraper\r\n",
    "\r\n",
    "# clustering\r\n",
    "from src.zinfo.article_clustering import get_vectorized_titles\r\n",
    "from src.zinfo.article_clustering import get_num_clusters_per_val\r\n",
    "from src.zinfo.article_clustering import cluster_articles\r\n",
    "\r\n",
    "# article selecting\r\n",
    "from src.zinfo.article_selector import get_best_article_all_clusters"
   ],
   "outputs": [],
   "metadata": {}
  },
  {
   "cell_type": "code",
   "execution_count": 3,
   "source": [
    "start_date = \"2021-08-13\"\r\n",
    "selected_news = pd.read_csv(\"../data/selected_articles.csv\")\r\n",
    "todays_articles = selected_news.loc[selected_news.date >= start_date]"
   ],
   "outputs": [],
   "metadata": {}
  },
  {
   "cell_type": "code",
   "execution_count": 6,
   "source": [
    "scraper = NewsScraper()\r\n",
    "trending_news = scraper.get_trending_articles_today()"
   ],
   "outputs": [
    {
     "output_type": "stream",
     "name": "stdout",
     "text": [
      "scraping articles for 20 trends on 2021-08-14...\n",
      "scraped 706 articles\n"
     ]
    }
   ],
   "metadata": {}
  },
  {
   "cell_type": "code",
   "execution_count": 2,
   "source": [
    "test_articles = pd.read_csv(\"trending_news.csv\")"
   ],
   "outputs": [],
   "metadata": {}
  },
  {
   "cell_type": "code",
   "execution_count": 12,
   "source": [
    "topics = test_articles.topic.value_counts()\r\n",
    "no_info = topics.loc[topics < 10].index\r\n",
    "num_important_topics = topics.drop(no_info).nunique()"
   ],
   "outputs": [],
   "metadata": {}
  },
  {
   "cell_type": "code",
   "execution_count": 15,
   "source": [
    "from newsapi.newsapi_client import NewsApiClient\r\n",
    "from datetime import date"
   ],
   "outputs": [],
   "metadata": {}
  },
  {
   "cell_type": "code",
   "execution_count": 14,
   "source": [
    "newsapi = NewsApiClient(api_key='d4f678b8ecea4996a173f1902c516fcd')"
   ],
   "outputs": [],
   "metadata": {}
  },
  {
   "cell_type": "code",
   "execution_count": 30,
   "source": [
    "today = date.today().strftime(\"%Y-%m-%d\")\r\n",
    "articles = newsapi.get_everything(q='haiti', language='en', from_param=today, page=1,\r\n",
    "                                                            sort_by='relevancy')\r\n"
   ],
   "outputs": [],
   "metadata": {}
  },
  {
   "cell_type": "code",
   "execution_count": 36,
   "source": [
    "articles[\"articles\"][4][\"source\"][\"name\"]"
   ],
   "outputs": [
    {
     "output_type": "execute_result",
     "data": {
      "text/plain": [
       "'NPR'"
      ]
     },
     "metadata": {},
     "execution_count": 36
    }
   ],
   "metadata": {}
  },
  {
   "cell_type": "code",
   "execution_count": 37,
   "source": [
    "all_news = pd.read_csv(\"../data/all_news.csv\")\r\n",
    "selected_news = pd.read_csv(\"../data/selected_articles.csv\")"
   ],
   "outputs": [],
   "metadata": {}
  },
  {
   "cell_type": "code",
   "execution_count": 40,
   "source": [
    "all_news[\"source\"] = np.NaN"
   ],
   "outputs": [],
   "metadata": {}
  },
  {
   "cell_type": "code",
   "execution_count": 41,
   "source": [
    "all_news"
   ],
   "outputs": [
    {
     "output_type": "execute_result",
     "data": {
      "text/plain": [
       "                     date                                              title  \\\n",
       "0    2021-08-12T20:00:24Z  Open Post: Hosted By Brendan Fraser Getting Em...   \n",
       "1    2021-08-12T14:45:00Z  Sometimes, the Internet is Good: Brendan Frase...   \n",
       "2    2021-08-12T17:30:38Z  10 Brilliant Martin Scorsese Movies to Buy on ...   \n",
       "3    2021-08-12T20:29:00Z  Watch: Brendan Fraser Gets Emotional in Respon...   \n",
       "4    2021-08-12T21:05:00Z  GreenPower Reports Fiscal First Quarter 2022 F...   \n",
       "..                    ...                                                ...   \n",
       "763  2021-08-12T04:52:15Z  Perseids meteor shower to put on show tonight,...   \n",
       "764  2021-08-12T05:52:48Z  Here's the US weather forecast for the Perseid...   \n",
       "765  2021-08-12T18:28:05Z  Perseid meteor shower peaks over Vancouver ski...   \n",
       "766  2021-08-12T21:21:41Z  Lingering Shower Possible, Mostly Dry Evening ...   \n",
       "767  2021-08-12T14:59:08Z  Bright and mild today; a pleasant weekend is a...   \n",
       "\n",
       "                                                   url                  topic  \\\n",
       "0    https://dlisted.com/2021/08/12/open-post-hoste...         Brendan Fraser   \n",
       "1    https://www.pajiba.com/web_culture/sometimes-t...         Brendan Fraser   \n",
       "2    https://www.indiewire.com/shop/best-martin-sco...         Brendan Fraser   \n",
       "3    https://comicbook.com/movies/news/brendan-fras...         Brendan Fraser   \n",
       "4    https://finance.yahoo.com/news/greenpower-repo...         Brendan Fraser   \n",
       "..                                                 ...                    ...   \n",
       "763  https://slashdot.org/firehose.pl?op=view&amp;i...  Meteor shower tonight   \n",
       "764  https://slashdot.org/firehose.pl?op=view&amp;i...  Meteor shower tonight   \n",
       "765  https://vancouversun.com/news/perseid-meteor-s...  Meteor shower tonight   \n",
       "766  https://www.wvnstv.com/weather/lingering-showe...  Meteor shower tonight   \n",
       "767  https://myfox47.com/2021/08/12/bright-and-mild...  Meteor shower tonight   \n",
       "\n",
       "     source  \n",
       "0       NaN  \n",
       "1       NaN  \n",
       "2       NaN  \n",
       "3       NaN  \n",
       "4       NaN  \n",
       "..      ...  \n",
       "763     NaN  \n",
       "764     NaN  \n",
       "765     NaN  \n",
       "766     NaN  \n",
       "767     NaN  \n",
       "\n",
       "[768 rows x 5 columns]"
      ],
      "text/html": [
       "<div>\n",
       "<style scoped>\n",
       "    .dataframe tbody tr th:only-of-type {\n",
       "        vertical-align: middle;\n",
       "    }\n",
       "\n",
       "    .dataframe tbody tr th {\n",
       "        vertical-align: top;\n",
       "    }\n",
       "\n",
       "    .dataframe thead th {\n",
       "        text-align: right;\n",
       "    }\n",
       "</style>\n",
       "<table border=\"1\" class=\"dataframe\">\n",
       "  <thead>\n",
       "    <tr style=\"text-align: right;\">\n",
       "      <th></th>\n",
       "      <th>date</th>\n",
       "      <th>title</th>\n",
       "      <th>url</th>\n",
       "      <th>topic</th>\n",
       "      <th>source</th>\n",
       "    </tr>\n",
       "  </thead>\n",
       "  <tbody>\n",
       "    <tr>\n",
       "      <th>0</th>\n",
       "      <td>2021-08-12T20:00:24Z</td>\n",
       "      <td>Open Post: Hosted By Brendan Fraser Getting Em...</td>\n",
       "      <td>https://dlisted.com/2021/08/12/open-post-hoste...</td>\n",
       "      <td>Brendan Fraser</td>\n",
       "      <td>NaN</td>\n",
       "    </tr>\n",
       "    <tr>\n",
       "      <th>1</th>\n",
       "      <td>2021-08-12T14:45:00Z</td>\n",
       "      <td>Sometimes, the Internet is Good: Brendan Frase...</td>\n",
       "      <td>https://www.pajiba.com/web_culture/sometimes-t...</td>\n",
       "      <td>Brendan Fraser</td>\n",
       "      <td>NaN</td>\n",
       "    </tr>\n",
       "    <tr>\n",
       "      <th>2</th>\n",
       "      <td>2021-08-12T17:30:38Z</td>\n",
       "      <td>10 Brilliant Martin Scorsese Movies to Buy on ...</td>\n",
       "      <td>https://www.indiewire.com/shop/best-martin-sco...</td>\n",
       "      <td>Brendan Fraser</td>\n",
       "      <td>NaN</td>\n",
       "    </tr>\n",
       "    <tr>\n",
       "      <th>3</th>\n",
       "      <td>2021-08-12T20:29:00Z</td>\n",
       "      <td>Watch: Brendan Fraser Gets Emotional in Respon...</td>\n",
       "      <td>https://comicbook.com/movies/news/brendan-fras...</td>\n",
       "      <td>Brendan Fraser</td>\n",
       "      <td>NaN</td>\n",
       "    </tr>\n",
       "    <tr>\n",
       "      <th>4</th>\n",
       "      <td>2021-08-12T21:05:00Z</td>\n",
       "      <td>GreenPower Reports Fiscal First Quarter 2022 F...</td>\n",
       "      <td>https://finance.yahoo.com/news/greenpower-repo...</td>\n",
       "      <td>Brendan Fraser</td>\n",
       "      <td>NaN</td>\n",
       "    </tr>\n",
       "    <tr>\n",
       "      <th>...</th>\n",
       "      <td>...</td>\n",
       "      <td>...</td>\n",
       "      <td>...</td>\n",
       "      <td>...</td>\n",
       "      <td>...</td>\n",
       "    </tr>\n",
       "    <tr>\n",
       "      <th>763</th>\n",
       "      <td>2021-08-12T04:52:15Z</td>\n",
       "      <td>Perseids meteor shower to put on show tonight,...</td>\n",
       "      <td>https://slashdot.org/firehose.pl?op=view&amp;amp;i...</td>\n",
       "      <td>Meteor shower tonight</td>\n",
       "      <td>NaN</td>\n",
       "    </tr>\n",
       "    <tr>\n",
       "      <th>764</th>\n",
       "      <td>2021-08-12T05:52:48Z</td>\n",
       "      <td>Here's the US weather forecast for the Perseid...</td>\n",
       "      <td>https://slashdot.org/firehose.pl?op=view&amp;amp;i...</td>\n",
       "      <td>Meteor shower tonight</td>\n",
       "      <td>NaN</td>\n",
       "    </tr>\n",
       "    <tr>\n",
       "      <th>765</th>\n",
       "      <td>2021-08-12T18:28:05Z</td>\n",
       "      <td>Perseid meteor shower peaks over Vancouver ski...</td>\n",
       "      <td>https://vancouversun.com/news/perseid-meteor-s...</td>\n",
       "      <td>Meteor shower tonight</td>\n",
       "      <td>NaN</td>\n",
       "    </tr>\n",
       "    <tr>\n",
       "      <th>766</th>\n",
       "      <td>2021-08-12T21:21:41Z</td>\n",
       "      <td>Lingering Shower Possible, Mostly Dry Evening ...</td>\n",
       "      <td>https://www.wvnstv.com/weather/lingering-showe...</td>\n",
       "      <td>Meteor shower tonight</td>\n",
       "      <td>NaN</td>\n",
       "    </tr>\n",
       "    <tr>\n",
       "      <th>767</th>\n",
       "      <td>2021-08-12T14:59:08Z</td>\n",
       "      <td>Bright and mild today; a pleasant weekend is a...</td>\n",
       "      <td>https://myfox47.com/2021/08/12/bright-and-mild...</td>\n",
       "      <td>Meteor shower tonight</td>\n",
       "      <td>NaN</td>\n",
       "    </tr>\n",
       "  </tbody>\n",
       "</table>\n",
       "<p>768 rows × 5 columns</p>\n",
       "</div>"
      ]
     },
     "metadata": {},
     "execution_count": 41
    }
   ],
   "metadata": {}
  },
  {
   "cell_type": "code",
   "execution_count": null,
   "source": [
    "def switch_columns(df, col1, col2):\r\n",
    "    cols = list(df.columns)\r\n",
    "    a, b = cols.index(col1), cols.index(col2)\r\n",
    "    cols[b], cols[a] = cols[a], cols[b]\r\n",
    "    df = df[cols]"
   ],
   "outputs": [],
   "metadata": {}
  },
  {
   "cell_type": "code",
   "execution_count": null,
   "source": [],
   "outputs": [],
   "metadata": {}
  }
 ],
 "metadata": {
  "orig_nbformat": 4,
  "language_info": {
   "name": "python",
   "version": "3.8.5",
   "mimetype": "text/x-python",
   "codemirror_mode": {
    "name": "ipython",
    "version": 3
   },
   "pygments_lexer": "ipython3",
   "nbconvert_exporter": "python",
   "file_extension": ".py"
  },
  "kernelspec": {
   "name": "python3",
   "display_name": "Python 3.8.5 64-bit ('base': conda)"
  },
  "interpreter": {
   "hash": "bdb1f293a72cda3337025d9d00554afb1343cd7218118617db03a8cb5103ebd2"
  }
 },
 "nbformat": 4,
 "nbformat_minor": 2
}