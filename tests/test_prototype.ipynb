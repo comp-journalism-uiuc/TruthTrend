{
 "cells": [
  {
   "cell_type": "code",
   "execution_count": 1,
   "source": [
    "import sys\r\n",
    "import pandas as pd\r\n",
    "import numpy as np\r\n",
    "import os\r\n",
    "import matplotlib.pyplot as plt\r\n",
    "sys.path.append(\"..\")\r\n",
    "\r\n",
    "# news scraping\r\n",
    "from src.zinfo.news_scraper import NewsScraper\r\n",
    "\r\n",
    "# clustering\r\n",
    "from src.zinfo.article_clustering import get_vectorized_titles\r\n",
    "from src.zinfo.article_clustering import get_num_clusters_per_val\r\n",
    "from src.zinfo.article_clustering import cluster_articles\r\n",
    "\r\n",
    "# article selecting\r\n",
    "from src.zinfo.article_selector import get_best_article_all_clusters"
   ],
   "outputs": [],
   "metadata": {}
  },
  {
   "cell_type": "code",
   "execution_count": 17,
   "source": [
    "# scraper = NewsScraper('c4cf3a48098e49e9b5da8490c73856eb')\r\n",
    "# trending_news = scraper.get_trending_articles_today()"
   ],
   "outputs": [
    {
     "output_type": "stream",
     "name": "stdout",
     "text": [
      "scraping articles for 20 trends on 2021-08-12\n",
      "scraped 862 articles\n"
     ]
    }
   ],
   "metadata": {}
  },
  {
   "cell_type": "code",
   "execution_count": 2,
   "source": [
    "trending_news = pd.read_csv('trending_news.csv')"
   ],
   "outputs": [],
   "metadata": {}
  },
  {
   "cell_type": "code",
   "execution_count": 15,
   "source": [
    "vectors, titles = get_vectorized_titles(trending_news)"
   ],
   "outputs": [],
   "metadata": {}
  },
  {
   "cell_type": "code",
   "execution_count": 31,
   "source": [
    "clusters_nums = get_num_clusters_per_val(np.array(vectors), 3, 2, 50, 2, 100)\r\n",
    "plt.plot(clusters_nums)"
   ],
   "outputs": [
    {
     "output_type": "execute_result",
     "data": {
      "text/plain": [
       "[<matplotlib.lines.Line2D at 0x1a9fcea2160>]"
      ]
     },
     "metadata": {},
     "execution_count": 31
    },
    {
     "output_type": "display_data",
     "data": {
      "text/plain": [
       "<Figure size 432x288 with 1 Axes>"
      ],
      "image/svg+xml": "<?xml version=\"1.0\" encoding=\"utf-8\" standalone=\"no\"?>\r\n<!DOCTYPE svg PUBLIC \"-//W3C//DTD SVG 1.1//EN\"\r\n  \"http://www.w3.org/Graphics/SVG/1.1/DTD/svg11.dtd\">\r\n<!-- Created with matplotlib (https://matplotlib.org/) -->\r\n<svg height=\"248.518125pt\" version=\"1.1\" viewBox=\"0 0 368.925 248.518125\" width=\"368.925pt\" xmlns=\"http://www.w3.org/2000/svg\" xmlns:xlink=\"http://www.w3.org/1999/xlink\">\r\n <metadata>\r\n  <rdf:RDF xmlns:cc=\"http://creativecommons.org/ns#\" xmlns:dc=\"http://purl.org/dc/elements/1.1/\" xmlns:rdf=\"http://www.w3.org/1999/02/22-rdf-syntax-ns#\">\r\n   <cc:Work>\r\n    <dc:type rdf:resource=\"http://purl.org/dc/dcmitype/StillImage\"/>\r\n    <dc:date>2021-08-12T18:42:04.629003</dc:date>\r\n    <dc:format>image/svg+xml</dc:format>\r\n    <dc:creator>\r\n     <cc:Agent>\r\n      <dc:title>Matplotlib v3.3.2, https://matplotlib.org/</dc:title>\r\n     </cc:Agent>\r\n    </dc:creator>\r\n   </cc:Work>\r\n  </rdf:RDF>\r\n </metadata>\r\n <defs>\r\n  <style type=\"text/css\">*{stroke-linecap:butt;stroke-linejoin:round;}</style>\r\n </defs>\r\n <g id=\"figure_1\">\r\n  <g id=\"patch_1\">\r\n   <path d=\"M -0 248.518125 \r\nL 368.925 248.518125 \r\nL 368.925 0 \r\nL -0 0 \r\nz\r\n\" style=\"fill:none;\"/>\r\n  </g>\r\n  <g id=\"axes_1\">\r\n   <g id=\"patch_2\">\r\n    <path d=\"M 26.925 224.64 \r\nL 361.725 224.64 \r\nL 361.725 7.2 \r\nL 26.925 7.2 \r\nz\r\n\" style=\"fill:#ffffff;\"/>\r\n   </g>\r\n   <g id=\"matplotlib.axis_1\">\r\n    <g id=\"xtick_1\">\r\n     <g id=\"line2d_1\">\r\n      <defs>\r\n       <path d=\"M 0 0 \r\nL 0 3.5 \r\n\" id=\"mc29839ac34\" style=\"stroke:#000000;stroke-width:0.8;\"/>\r\n      </defs>\r\n      <g>\r\n       <use style=\"stroke:#000000;stroke-width:0.8;\" x=\"42.143182\" xlink:href=\"#mc29839ac34\" y=\"224.64\"/>\r\n      </g>\r\n     </g>\r\n     <g id=\"text_1\">\r\n      <!-- 0 -->\r\n      <g transform=\"translate(38.961932 239.238437)scale(0.1 -0.1)\">\r\n       <defs>\r\n        <path d=\"M 31.78125 66.40625 \r\nQ 24.171875 66.40625 20.328125 58.90625 \r\nQ 16.5 51.421875 16.5 36.375 \r\nQ 16.5 21.390625 20.328125 13.890625 \r\nQ 24.171875 6.390625 31.78125 6.390625 \r\nQ 39.453125 6.390625 43.28125 13.890625 \r\nQ 47.125 21.390625 47.125 36.375 \r\nQ 47.125 51.421875 43.28125 58.90625 \r\nQ 39.453125 66.40625 31.78125 66.40625 \r\nz\r\nM 31.78125 74.21875 \r\nQ 44.046875 74.21875 50.515625 64.515625 \r\nQ 56.984375 54.828125 56.984375 36.375 \r\nQ 56.984375 17.96875 50.515625 8.265625 \r\nQ 44.046875 -1.421875 31.78125 -1.421875 \r\nQ 19.53125 -1.421875 13.0625 8.265625 \r\nQ 6.59375 17.96875 6.59375 36.375 \r\nQ 6.59375 54.828125 13.0625 64.515625 \r\nQ 19.53125 74.21875 31.78125 74.21875 \r\nz\r\n\" id=\"DejaVuSans-48\"/>\r\n       </defs>\r\n       <use xlink:href=\"#DejaVuSans-48\"/>\r\n      </g>\r\n     </g>\r\n    </g>\r\n    <g id=\"xtick_2\">\r\n     <g id=\"line2d_2\">\r\n      <g>\r\n       <use style=\"stroke:#000000;stroke-width:0.8;\" x=\"108.30919\" xlink:href=\"#mc29839ac34\" y=\"224.64\"/>\r\n      </g>\r\n     </g>\r\n     <g id=\"text_2\">\r\n      <!-- 5 -->\r\n      <g transform=\"translate(105.12794 239.238437)scale(0.1 -0.1)\">\r\n       <defs>\r\n        <path d=\"M 10.796875 72.90625 \r\nL 49.515625 72.90625 \r\nL 49.515625 64.59375 \r\nL 19.828125 64.59375 \r\nL 19.828125 46.734375 \r\nQ 21.96875 47.46875 24.109375 47.828125 \r\nQ 26.265625 48.1875 28.421875 48.1875 \r\nQ 40.625 48.1875 47.75 41.5 \r\nQ 54.890625 34.8125 54.890625 23.390625 \r\nQ 54.890625 11.625 47.5625 5.09375 \r\nQ 40.234375 -1.421875 26.90625 -1.421875 \r\nQ 22.3125 -1.421875 17.546875 -0.640625 \r\nQ 12.796875 0.140625 7.71875 1.703125 \r\nL 7.71875 11.625 \r\nQ 12.109375 9.234375 16.796875 8.0625 \r\nQ 21.484375 6.890625 26.703125 6.890625 \r\nQ 35.15625 6.890625 40.078125 11.328125 \r\nQ 45.015625 15.765625 45.015625 23.390625 \r\nQ 45.015625 31 40.078125 35.4375 \r\nQ 35.15625 39.890625 26.703125 39.890625 \r\nQ 22.75 39.890625 18.8125 39.015625 \r\nQ 14.890625 38.140625 10.796875 36.28125 \r\nz\r\n\" id=\"DejaVuSans-53\"/>\r\n       </defs>\r\n       <use xlink:href=\"#DejaVuSans-53\"/>\r\n      </g>\r\n     </g>\r\n    </g>\r\n    <g id=\"xtick_3\">\r\n     <g id=\"line2d_3\">\r\n      <g>\r\n       <use style=\"stroke:#000000;stroke-width:0.8;\" x=\"174.475198\" xlink:href=\"#mc29839ac34\" y=\"224.64\"/>\r\n      </g>\r\n     </g>\r\n     <g id=\"text_3\">\r\n      <!-- 10 -->\r\n      <g transform=\"translate(168.112698 239.238437)scale(0.1 -0.1)\">\r\n       <defs>\r\n        <path d=\"M 12.40625 8.296875 \r\nL 28.515625 8.296875 \r\nL 28.515625 63.921875 \r\nL 10.984375 60.40625 \r\nL 10.984375 69.390625 \r\nL 28.421875 72.90625 \r\nL 38.28125 72.90625 \r\nL 38.28125 8.296875 \r\nL 54.390625 8.296875 \r\nL 54.390625 0 \r\nL 12.40625 0 \r\nz\r\n\" id=\"DejaVuSans-49\"/>\r\n       </defs>\r\n       <use xlink:href=\"#DejaVuSans-49\"/>\r\n       <use x=\"63.623047\" xlink:href=\"#DejaVuSans-48\"/>\r\n      </g>\r\n     </g>\r\n    </g>\r\n    <g id=\"xtick_4\">\r\n     <g id=\"line2d_4\">\r\n      <g>\r\n       <use style=\"stroke:#000000;stroke-width:0.8;\" x=\"240.641206\" xlink:href=\"#mc29839ac34\" y=\"224.64\"/>\r\n      </g>\r\n     </g>\r\n     <g id=\"text_4\">\r\n      <!-- 15 -->\r\n      <g transform=\"translate(234.278706 239.238437)scale(0.1 -0.1)\">\r\n       <use xlink:href=\"#DejaVuSans-49\"/>\r\n       <use x=\"63.623047\" xlink:href=\"#DejaVuSans-53\"/>\r\n      </g>\r\n     </g>\r\n    </g>\r\n    <g id=\"xtick_5\">\r\n     <g id=\"line2d_5\">\r\n      <g>\r\n       <use style=\"stroke:#000000;stroke-width:0.8;\" x=\"306.807213\" xlink:href=\"#mc29839ac34\" y=\"224.64\"/>\r\n      </g>\r\n     </g>\r\n     <g id=\"text_5\">\r\n      <!-- 20 -->\r\n      <g transform=\"translate(300.444713 239.238437)scale(0.1 -0.1)\">\r\n       <defs>\r\n        <path d=\"M 19.1875 8.296875 \r\nL 53.609375 8.296875 \r\nL 53.609375 0 \r\nL 7.328125 0 \r\nL 7.328125 8.296875 \r\nQ 12.9375 14.109375 22.625 23.890625 \r\nQ 32.328125 33.6875 34.8125 36.53125 \r\nQ 39.546875 41.84375 41.421875 45.53125 \r\nQ 43.3125 49.21875 43.3125 52.78125 \r\nQ 43.3125 58.59375 39.234375 62.25 \r\nQ 35.15625 65.921875 28.609375 65.921875 \r\nQ 23.96875 65.921875 18.8125 64.3125 \r\nQ 13.671875 62.703125 7.8125 59.421875 \r\nL 7.8125 69.390625 \r\nQ 13.765625 71.78125 18.9375 73 \r\nQ 24.125 74.21875 28.421875 74.21875 \r\nQ 39.75 74.21875 46.484375 68.546875 \r\nQ 53.21875 62.890625 53.21875 53.421875 \r\nQ 53.21875 48.921875 51.53125 44.890625 \r\nQ 49.859375 40.875 45.40625 35.40625 \r\nQ 44.1875 33.984375 37.640625 27.21875 \r\nQ 31.109375 20.453125 19.1875 8.296875 \r\nz\r\n\" id=\"DejaVuSans-50\"/>\r\n       </defs>\r\n       <use xlink:href=\"#DejaVuSans-50\"/>\r\n       <use x=\"63.623047\" xlink:href=\"#DejaVuSans-48\"/>\r\n      </g>\r\n     </g>\r\n    </g>\r\n   </g>\r\n   <g id=\"matplotlib.axis_2\">\r\n    <g id=\"ytick_1\">\r\n     <g id=\"line2d_6\">\r\n      <defs>\r\n       <path d=\"M 0 0 \r\nL -3.5 0 \r\n\" id=\"m2b66a3ec60\" style=\"stroke:#000000;stroke-width:0.8;\"/>\r\n      </defs>\r\n      <g>\r\n       <use style=\"stroke:#000000;stroke-width:0.8;\" x=\"26.925\" xlink:href=\"#m2b66a3ec60\" y=\"214.756364\"/>\r\n      </g>\r\n     </g>\r\n     <g id=\"text_6\">\r\n      <!-- 0 -->\r\n      <g transform=\"translate(13.5625 218.555582)scale(0.1 -0.1)\">\r\n       <use xlink:href=\"#DejaVuSans-48\"/>\r\n      </g>\r\n     </g>\r\n    </g>\r\n    <g id=\"ytick_2\">\r\n     <g id=\"line2d_7\">\r\n      <g>\r\n       <use style=\"stroke:#000000;stroke-width:0.8;\" x=\"26.925\" xlink:href=\"#m2b66a3ec60\" y=\"188.4\"/>\r\n      </g>\r\n     </g>\r\n     <g id=\"text_7\">\r\n      <!-- 2 -->\r\n      <g transform=\"translate(13.5625 192.199219)scale(0.1 -0.1)\">\r\n       <use xlink:href=\"#DejaVuSans-50\"/>\r\n      </g>\r\n     </g>\r\n    </g>\r\n    <g id=\"ytick_3\">\r\n     <g id=\"line2d_8\">\r\n      <g>\r\n       <use style=\"stroke:#000000;stroke-width:0.8;\" x=\"26.925\" xlink:href=\"#m2b66a3ec60\" y=\"162.043636\"/>\r\n      </g>\r\n     </g>\r\n     <g id=\"text_8\">\r\n      <!-- 4 -->\r\n      <g transform=\"translate(13.5625 165.842855)scale(0.1 -0.1)\">\r\n       <defs>\r\n        <path d=\"M 37.796875 64.3125 \r\nL 12.890625 25.390625 \r\nL 37.796875 25.390625 \r\nz\r\nM 35.203125 72.90625 \r\nL 47.609375 72.90625 \r\nL 47.609375 25.390625 \r\nL 58.015625 25.390625 \r\nL 58.015625 17.1875 \r\nL 47.609375 17.1875 \r\nL 47.609375 0 \r\nL 37.796875 0 \r\nL 37.796875 17.1875 \r\nL 4.890625 17.1875 \r\nL 4.890625 26.703125 \r\nz\r\n\" id=\"DejaVuSans-52\"/>\r\n       </defs>\r\n       <use xlink:href=\"#DejaVuSans-52\"/>\r\n      </g>\r\n     </g>\r\n    </g>\r\n    <g id=\"ytick_4\">\r\n     <g id=\"line2d_9\">\r\n      <g>\r\n       <use style=\"stroke:#000000;stroke-width:0.8;\" x=\"26.925\" xlink:href=\"#m2b66a3ec60\" y=\"135.687273\"/>\r\n      </g>\r\n     </g>\r\n     <g id=\"text_9\">\r\n      <!-- 6 -->\r\n      <g transform=\"translate(13.5625 139.486491)scale(0.1 -0.1)\">\r\n       <defs>\r\n        <path d=\"M 33.015625 40.375 \r\nQ 26.375 40.375 22.484375 35.828125 \r\nQ 18.609375 31.296875 18.609375 23.390625 \r\nQ 18.609375 15.53125 22.484375 10.953125 \r\nQ 26.375 6.390625 33.015625 6.390625 \r\nQ 39.65625 6.390625 43.53125 10.953125 \r\nQ 47.40625 15.53125 47.40625 23.390625 \r\nQ 47.40625 31.296875 43.53125 35.828125 \r\nQ 39.65625 40.375 33.015625 40.375 \r\nz\r\nM 52.59375 71.296875 \r\nL 52.59375 62.3125 \r\nQ 48.875 64.0625 45.09375 64.984375 \r\nQ 41.3125 65.921875 37.59375 65.921875 \r\nQ 27.828125 65.921875 22.671875 59.328125 \r\nQ 17.53125 52.734375 16.796875 39.40625 \r\nQ 19.671875 43.65625 24.015625 45.921875 \r\nQ 28.375 48.1875 33.59375 48.1875 \r\nQ 44.578125 48.1875 50.953125 41.515625 \r\nQ 57.328125 34.859375 57.328125 23.390625 \r\nQ 57.328125 12.15625 50.6875 5.359375 \r\nQ 44.046875 -1.421875 33.015625 -1.421875 \r\nQ 20.359375 -1.421875 13.671875 8.265625 \r\nQ 6.984375 17.96875 6.984375 36.375 \r\nQ 6.984375 53.65625 15.1875 63.9375 \r\nQ 23.390625 74.21875 37.203125 74.21875 \r\nQ 40.921875 74.21875 44.703125 73.484375 \r\nQ 48.484375 72.75 52.59375 71.296875 \r\nz\r\n\" id=\"DejaVuSans-54\"/>\r\n       </defs>\r\n       <use xlink:href=\"#DejaVuSans-54\"/>\r\n      </g>\r\n     </g>\r\n    </g>\r\n    <g id=\"ytick_5\">\r\n     <g id=\"line2d_10\">\r\n      <g>\r\n       <use style=\"stroke:#000000;stroke-width:0.8;\" x=\"26.925\" xlink:href=\"#m2b66a3ec60\" y=\"109.330909\"/>\r\n      </g>\r\n     </g>\r\n     <g id=\"text_10\">\r\n      <!-- 8 -->\r\n      <g transform=\"translate(13.5625 113.130128)scale(0.1 -0.1)\">\r\n       <defs>\r\n        <path d=\"M 31.78125 34.625 \r\nQ 24.75 34.625 20.71875 30.859375 \r\nQ 16.703125 27.09375 16.703125 20.515625 \r\nQ 16.703125 13.921875 20.71875 10.15625 \r\nQ 24.75 6.390625 31.78125 6.390625 \r\nQ 38.8125 6.390625 42.859375 10.171875 \r\nQ 46.921875 13.96875 46.921875 20.515625 \r\nQ 46.921875 27.09375 42.890625 30.859375 \r\nQ 38.875 34.625 31.78125 34.625 \r\nz\r\nM 21.921875 38.8125 \r\nQ 15.578125 40.375 12.03125 44.71875 \r\nQ 8.5 49.078125 8.5 55.328125 \r\nQ 8.5 64.0625 14.71875 69.140625 \r\nQ 20.953125 74.21875 31.78125 74.21875 \r\nQ 42.671875 74.21875 48.875 69.140625 \r\nQ 55.078125 64.0625 55.078125 55.328125 \r\nQ 55.078125 49.078125 51.53125 44.71875 \r\nQ 48 40.375 41.703125 38.8125 \r\nQ 48.828125 37.15625 52.796875 32.3125 \r\nQ 56.78125 27.484375 56.78125 20.515625 \r\nQ 56.78125 9.90625 50.3125 4.234375 \r\nQ 43.84375 -1.421875 31.78125 -1.421875 \r\nQ 19.734375 -1.421875 13.25 4.234375 \r\nQ 6.78125 9.90625 6.78125 20.515625 \r\nQ 6.78125 27.484375 10.78125 32.3125 \r\nQ 14.796875 37.15625 21.921875 38.8125 \r\nz\r\nM 18.3125 54.390625 \r\nQ 18.3125 48.734375 21.84375 45.5625 \r\nQ 25.390625 42.390625 31.78125 42.390625 \r\nQ 38.140625 42.390625 41.71875 45.5625 \r\nQ 45.3125 48.734375 45.3125 54.390625 \r\nQ 45.3125 60.0625 41.71875 63.234375 \r\nQ 38.140625 66.40625 31.78125 66.40625 \r\nQ 25.390625 66.40625 21.84375 63.234375 \r\nQ 18.3125 60.0625 18.3125 54.390625 \r\nz\r\n\" id=\"DejaVuSans-56\"/>\r\n       </defs>\r\n       <use xlink:href=\"#DejaVuSans-56\"/>\r\n      </g>\r\n     </g>\r\n    </g>\r\n    <g id=\"ytick_6\">\r\n     <g id=\"line2d_11\">\r\n      <g>\r\n       <use style=\"stroke:#000000;stroke-width:0.8;\" x=\"26.925\" xlink:href=\"#m2b66a3ec60\" y=\"82.974545\"/>\r\n      </g>\r\n     </g>\r\n     <g id=\"text_11\">\r\n      <!-- 10 -->\r\n      <g transform=\"translate(7.2 86.773764)scale(0.1 -0.1)\">\r\n       <use xlink:href=\"#DejaVuSans-49\"/>\r\n       <use x=\"63.623047\" xlink:href=\"#DejaVuSans-48\"/>\r\n      </g>\r\n     </g>\r\n    </g>\r\n    <g id=\"ytick_7\">\r\n     <g id=\"line2d_12\">\r\n      <g>\r\n       <use style=\"stroke:#000000;stroke-width:0.8;\" x=\"26.925\" xlink:href=\"#m2b66a3ec60\" y=\"56.618182\"/>\r\n      </g>\r\n     </g>\r\n     <g id=\"text_12\">\r\n      <!-- 12 -->\r\n      <g transform=\"translate(7.2 60.417401)scale(0.1 -0.1)\">\r\n       <use xlink:href=\"#DejaVuSans-49\"/>\r\n       <use x=\"63.623047\" xlink:href=\"#DejaVuSans-50\"/>\r\n      </g>\r\n     </g>\r\n    </g>\r\n    <g id=\"ytick_8\">\r\n     <g id=\"line2d_13\">\r\n      <g>\r\n       <use style=\"stroke:#000000;stroke-width:0.8;\" x=\"26.925\" xlink:href=\"#m2b66a3ec60\" y=\"30.261818\"/>\r\n      </g>\r\n     </g>\r\n     <g id=\"text_13\">\r\n      <!-- 14 -->\r\n      <g transform=\"translate(7.2 34.061037)scale(0.1 -0.1)\">\r\n       <use xlink:href=\"#DejaVuSans-49\"/>\r\n       <use x=\"63.623047\" xlink:href=\"#DejaVuSans-52\"/>\r\n      </g>\r\n     </g>\r\n    </g>\r\n   </g>\r\n   <g id=\"line2d_14\">\r\n    <path clip-path=\"url(#pd4a1626cfc)\" d=\"M 42.143182 214.756364 \r\nL 55.376383 214.756364 \r\nL 68.609585 201.578182 \r\nL 81.842787 109.330909 \r\nL 95.075988 30.261818 \r\nL 108.30919 17.083636 \r\nL 121.542391 30.261818 \r\nL 134.775593 30.261818 \r\nL 148.008794 30.261818 \r\nL 161.241996 69.796364 \r\nL 174.475198 69.796364 \r\nL 187.708399 122.509091 \r\nL 200.941601 175.221818 \r\nL 214.174802 175.221818 \r\nL 227.408004 188.4 \r\nL 240.641206 201.578182 \r\nL 253.874407 188.4 \r\nL 267.107609 188.4 \r\nL 280.34081 201.578182 \r\nL 293.574012 201.578182 \r\nL 306.807213 201.578182 \r\nL 320.040415 201.578182 \r\nL 333.273617 201.578182 \r\nL 346.506818 201.578182 \r\n\" style=\"fill:none;stroke:#1f77b4;stroke-linecap:square;stroke-width:1.5;\"/>\r\n   </g>\r\n   <g id=\"patch_3\">\r\n    <path d=\"M 26.925 224.64 \r\nL 26.925 7.2 \r\n\" style=\"fill:none;stroke:#000000;stroke-linecap:square;stroke-linejoin:miter;stroke-width:0.8;\"/>\r\n   </g>\r\n   <g id=\"patch_4\">\r\n    <path d=\"M 361.725 224.64 \r\nL 361.725 7.2 \r\n\" style=\"fill:none;stroke:#000000;stroke-linecap:square;stroke-linejoin:miter;stroke-width:0.8;\"/>\r\n   </g>\r\n   <g id=\"patch_5\">\r\n    <path d=\"M 26.925 224.64 \r\nL 361.725 224.64 \r\n\" style=\"fill:none;stroke:#000000;stroke-linecap:square;stroke-linejoin:miter;stroke-width:0.8;\"/>\r\n   </g>\r\n   <g id=\"patch_6\">\r\n    <path d=\"M 26.925 7.2 \r\nL 361.725 7.2 \r\n\" style=\"fill:none;stroke:#000000;stroke-linecap:square;stroke-linejoin:miter;stroke-width:0.8;\"/>\r\n   </g>\r\n  </g>\r\n </g>\r\n <defs>\r\n  <clipPath id=\"pd4a1626cfc\">\r\n   <rect height=\"217.44\" width=\"334.8\" x=\"26.925\" y=\"7.2\"/>\r\n  </clipPath>\r\n </defs>\r\n</svg>\r\n",
      "image/png": "[encoded data removed]"
     },
     "metadata": {
      "needs_background": "light"
     }
    }
   ],
   "metadata": {}
  },
  {
   "cell_type": "code",
   "execution_count": 32,
   "source": [
    "clusters_nums"
   ],
   "outputs": [
    {
     "output_type": "execute_result",
     "data": {
      "text/plain": [
       "[0, 0, 1, 8, 14, 15, 14, 14, 14, 11, 11, 7, 3, 3, 2, 1, 2, 2, 1, 1, 1, 1, 1, 1]"
      ]
     },
     "metadata": {},
     "execution_count": 32
    }
   ],
   "metadata": {}
  },
  {
   "cell_type": "code",
   "execution_count": 3,
   "source": [
    "clusters = cluster_articles(trending_news)\r\n",
    "summarized_news = get_best_article_all_clusters(clusters, trending_news)"
   ],
   "outputs": [
    {
     "output_type": "stream",
     "name": "stdout",
     "text": [
      "clustering articles\n",
      "eps_val: 0.24\n",
      "min_samples: 2\n",
      "selecting best articles out of each cluster\n"
     ]
    }
   ],
   "metadata": {}
  },
  {
   "cell_type": "code",
   "execution_count": 4,
   "source": [
    "summarized_news"
   ],
   "outputs": [
    {
     "output_type": "execute_result",
     "data": {
      "text/plain": [
       "                     date                                              title  \\\n",
       "520  2021-08-12T19:00:46Z  Surf Instructor Killed His Children and Claime...   \n",
       "563  2021-08-12T09:47:00Z  Chloe Bennet leaves live-action Powerpuff Girl...   \n",
       "139  2021-08-12T17:49:12Z  Debbie Allen To Receive Governors Award At Thi...   \n",
       "162  2021-08-12T18:05:03Z  ‘Thor: The Dark World’ Director on Marvel Movi...   \n",
       "211  2021-08-12T02:53:37Z             2022 MTV Video Music Award Nominations   \n",
       "258  2021-08-12T16:15:00Z  UW Health to take part in pediatric COVID-19 v...   \n",
       "388  2021-08-12T14:24:22Z  ‘Home Sweet Home Alone:’ Ellie Kemper, Kenan T...   \n",
       "755  2021-08-12T05:50:00Z  Look to the sky tonight to get a glimpse of th...   \n",
       "481  2021-08-12T05:54:46Z  MLB roundup: Bobby Dalbec's 5 RBIs help Red So...   \n",
       "456  2021-08-12T07:22:36Z  Means scheduled to start for Baltimore against...   \n",
       "474  2021-08-12T13:02:15Z  Brewers starter Corbin Burnes strikes out 10 s...   \n",
       "498  2021-08-12T16:46:42Z  Dan Crenshaw Heckled at GOP Fundraiser for Say...   \n",
       "620  2021-08-12T01:13:22Z  Vicious wedge-tailedViciouswedge-tailed Viciou...   \n",
       "637  2021-08-12T00:29:25Z  ‘Jeopardy!’ Officially Brings In Mike Richards...   \n",
       "639  2021-08-12T21:01:16Z  'Jeopardy!' champ Matt Amodio's analytic style...   \n",
       "657  2021-08-12T16:16:25Z  Furious that LeVar Burton isn't the new 'Jeopa...   \n",
       "\n",
       "                                                   url                  topic  \\\n",
       "520             https://www.memeorandum.com/210812/p91                  QAnon   \n",
       "563  https://www.gamesradar.com/chloe-bennet-leaves...           Chloe Bennet   \n",
       "139  https://deadline.com/2021/08/debbie-allen-emmy...        Whitney Houston   \n",
       "162  https://ohnotheydidnt.livejournal.com/12141119...  Arnold Schwarzenegger   \n",
       "211  https://ohnotheydidnt.livejournal.com/12140694...      Machine Gun Kelly   \n",
       "258  https://www.wisn.com/article/uw-health-to-take...      Immunocompromised   \n",
       "388  http://www.thewrap.com/home-sweet-home-alone-e...               Patriots   \n",
       "755  https://www.hawaiinewsnow.com/2021/08/12/look-...  Meteor shower tonight   \n",
       "481  https://www.channelnewsasia.com/sport/mlb-roun...           Jake Arrieta   \n",
       "456  https://www.thestar.com/sports/baseball/2021/0...            Chris Davis   \n",
       "474  https://www.cbssports.com/mlb/news/brewers-sta...           Jake Arrieta   \n",
       "498  https://www.thedailybeast.com/dan-crenshaw-hec...                  QAnon   \n",
       "620  https://www.dailymail.co.uk/video/news/video-2...                 Eagles   \n",
       "637  https://hypebeast.com/2021/8/jeopardy-hosts-mi...     Jeopardy! new host   \n",
       "639  https://www.independent.co.uk/news/jeopardy-ch...     Jeopardy! new host   \n",
       "657  https://www.latimes.com/entertainment-arts/tv/...     Jeopardy! new host   \n",
       "\n",
       "     num_articles  \n",
       "520           498  \n",
       "563             4  \n",
       "139             2  \n",
       "162             2  \n",
       "211             4  \n",
       "258             2  \n",
       "388             2  \n",
       "755            16  \n",
       "481             3  \n",
       "456             2  \n",
       "474             5  \n",
       "498             3  \n",
       "620             2  \n",
       "637            22  \n",
       "639             3  \n",
       "657             4  "
      ],
      "text/html": [
       "<div>\n",
       "<style scoped>\n",
       "    .dataframe tbody tr th:only-of-type {\n",
       "        vertical-align: middle;\n",
       "    }\n",
       "\n",
       "    .dataframe tbody tr th {\n",
       "        vertical-align: top;\n",
       "    }\n",
       "\n",
       "    .dataframe thead th {\n",
       "        text-align: right;\n",
       "    }\n",
       "</style>\n",
       "<table border=\"1\" class=\"dataframe\">\n",
       "  <thead>\n",
       "    <tr style=\"text-align: right;\">\n",
       "      <th></th>\n",
       "      <th>date</th>\n",
       "      <th>title</th>\n",
       "      <th>url</th>\n",
       "      <th>topic</th>\n",
       "      <th>num_articles</th>\n",
       "    </tr>\n",
       "  </thead>\n",
       "  <tbody>\n",
       "    <tr>\n",
       "      <th>520</th>\n",
       "      <td>2021-08-12T19:00:46Z</td>\n",
       "      <td>Surf Instructor Killed His Children and Claime...</td>\n",
       "      <td>https://www.memeorandum.com/210812/p91</td>\n",
       "      <td>QAnon</td>\n",
       "      <td>498</td>\n",
       "    </tr>\n",
       "    <tr>\n",
       "      <th>563</th>\n",
       "      <td>2021-08-12T09:47:00Z</td>\n",
       "      <td>Chloe Bennet leaves live-action Powerpuff Girl...</td>\n",
       "      <td>https://www.gamesradar.com/chloe-bennet-leaves...</td>\n",
       "      <td>Chloe Bennet</td>\n",
       "      <td>4</td>\n",
       "    </tr>\n",
       "    <tr>\n",
       "      <th>139</th>\n",
       "      <td>2021-08-12T17:49:12Z</td>\n",
       "      <td>Debbie Allen To Receive Governors Award At Thi...</td>\n",
       "      <td>https://deadline.com/2021/08/debbie-allen-emmy...</td>\n",
       "      <td>Whitney Houston</td>\n",
       "      <td>2</td>\n",
       "    </tr>\n",
       "    <tr>\n",
       "      <th>162</th>\n",
       "      <td>2021-08-12T18:05:03Z</td>\n",
       "      <td>‘Thor: The Dark World’ Director on Marvel Movi...</td>\n",
       "      <td>https://ohnotheydidnt.livejournal.com/12141119...</td>\n",
       "      <td>Arnold Schwarzenegger</td>\n",
       "      <td>2</td>\n",
       "    </tr>\n",
       "    <tr>\n",
       "      <th>211</th>\n",
       "      <td>2021-08-12T02:53:37Z</td>\n",
       "      <td>2022 MTV Video Music Award Nominations</td>\n",
       "      <td>https://ohnotheydidnt.livejournal.com/12140694...</td>\n",
       "      <td>Machine Gun Kelly</td>\n",
       "      <td>4</td>\n",
       "    </tr>\n",
       "    <tr>\n",
       "      <th>258</th>\n",
       "      <td>2021-08-12T16:15:00Z</td>\n",
       "      <td>UW Health to take part in pediatric COVID-19 v...</td>\n",
       "      <td>https://www.wisn.com/article/uw-health-to-take...</td>\n",
       "      <td>Immunocompromised</td>\n",
       "      <td>2</td>\n",
       "    </tr>\n",
       "    <tr>\n",
       "      <th>388</th>\n",
       "      <td>2021-08-12T14:24:22Z</td>\n",
       "      <td>‘Home Sweet Home Alone:’ Ellie Kemper, Kenan T...</td>\n",
       "      <td>http://www.thewrap.com/home-sweet-home-alone-e...</td>\n",
       "      <td>Patriots</td>\n",
       "      <td>2</td>\n",
       "    </tr>\n",
       "    <tr>\n",
       "      <th>755</th>\n",
       "      <td>2021-08-12T05:50:00Z</td>\n",
       "      <td>Look to the sky tonight to get a glimpse of th...</td>\n",
       "      <td>https://www.hawaiinewsnow.com/2021/08/12/look-...</td>\n",
       "      <td>Meteor shower tonight</td>\n",
       "      <td>16</td>\n",
       "    </tr>\n",
       "    <tr>\n",
       "      <th>481</th>\n",
       "      <td>2021-08-12T05:54:46Z</td>\n",
       "      <td>MLB roundup: Bobby Dalbec's 5 RBIs help Red So...</td>\n",
       "      <td>https://www.channelnewsasia.com/sport/mlb-roun...</td>\n",
       "      <td>Jake Arrieta</td>\n",
       "      <td>3</td>\n",
       "    </tr>\n",
       "    <tr>\n",
       "      <th>456</th>\n",
       "      <td>2021-08-12T07:22:36Z</td>\n",
       "      <td>Means scheduled to start for Baltimore against...</td>\n",
       "      <td>https://www.thestar.com/sports/baseball/2021/0...</td>\n",
       "      <td>Chris Davis</td>\n",
       "      <td>2</td>\n",
       "    </tr>\n",
       "    <tr>\n",
       "      <th>474</th>\n",
       "      <td>2021-08-12T13:02:15Z</td>\n",
       "      <td>Brewers starter Corbin Burnes strikes out 10 s...</td>\n",
       "      <td>https://www.cbssports.com/mlb/news/brewers-sta...</td>\n",
       "      <td>Jake Arrieta</td>\n",
       "      <td>5</td>\n",
       "    </tr>\n",
       "    <tr>\n",
       "      <th>498</th>\n",
       "      <td>2021-08-12T16:46:42Z</td>\n",
       "      <td>Dan Crenshaw Heckled at GOP Fundraiser for Say...</td>\n",
       "      <td>https://www.thedailybeast.com/dan-crenshaw-hec...</td>\n",
       "      <td>QAnon</td>\n",
       "      <td>3</td>\n",
       "    </tr>\n",
       "    <tr>\n",
       "      <th>620</th>\n",
       "      <td>2021-08-12T01:13:22Z</td>\n",
       "      <td>Vicious wedge-tailedViciouswedge-tailed Viciou...</td>\n",
       "      <td>https://www.dailymail.co.uk/video/news/video-2...</td>\n",
       "      <td>Eagles</td>\n",
       "      <td>2</td>\n",
       "    </tr>\n",
       "    <tr>\n",
       "      <th>637</th>\n",
       "      <td>2021-08-12T00:29:25Z</td>\n",
       "      <td>‘Jeopardy!’ Officially Brings In Mike Richards...</td>\n",
       "      <td>https://hypebeast.com/2021/8/jeopardy-hosts-mi...</td>\n",
       "      <td>Jeopardy! new host</td>\n",
       "      <td>22</td>\n",
       "    </tr>\n",
       "    <tr>\n",
       "      <th>639</th>\n",
       "      <td>2021-08-12T21:01:16Z</td>\n",
       "      <td>'Jeopardy!' champ Matt Amodio's analytic style...</td>\n",
       "      <td>https://www.independent.co.uk/news/jeopardy-ch...</td>\n",
       "      <td>Jeopardy! new host</td>\n",
       "      <td>3</td>\n",
       "    </tr>\n",
       "    <tr>\n",
       "      <th>657</th>\n",
       "      <td>2021-08-12T16:16:25Z</td>\n",
       "      <td>Furious that LeVar Burton isn't the new 'Jeopa...</td>\n",
       "      <td>https://www.latimes.com/entertainment-arts/tv/...</td>\n",
       "      <td>Jeopardy! new host</td>\n",
       "      <td>4</td>\n",
       "    </tr>\n",
       "  </tbody>\n",
       "</table>\n",
       "</div>"
      ]
     },
     "metadata": {},
     "execution_count": 4
    }
   ],
   "metadata": {}
  },
  {
   "cell_type": "code",
   "execution_count": 6,
   "source": [
    "trending_news.topic.value_counts()"
   ],
   "outputs": [
    {
     "output_type": "execute_result",
     "data": {
      "text/plain": [
       "Eagles                   80\n",
       "Field of Dreams game     80\n",
       "Immunocompromised        80\n",
       "QAnon                    80\n",
       "Afghanistan              80\n",
       "Patriots                 80\n",
       "Chris Davis              58\n",
       "Arnold Schwarzenegger    53\n",
       "Jeopardy! new host       49\n",
       "Hunter Biden             45\n",
       "India vs England         34\n",
       "Machine Gun Kelly        34\n",
       "Jake Arrieta             32\n",
       "Meteor shower tonight    18\n",
       "Tom Hanks son Chet       17\n",
       "Brendan Fraser           13\n",
       "Gary Payton II           10\n",
       "Whitney Houston           8\n",
       "Chloe Bennet              8\n",
       "Danbury mall              3\n",
       "Name: topic, dtype: int64"
      ]
     },
     "metadata": {},
     "execution_count": 6
    }
   ],
   "metadata": {}
  }
 ],
 "metadata": {
  "orig_nbformat": 4,
  "language_info": {
   "name": "python",
   "version": "3.8.5",
   "mimetype": "text/x-python",
   "codemirror_mode": {
    "name": "ipython",
    "version": 3
   },
   "pygments_lexer": "ipython3",
   "nbconvert_exporter": "python",
   "file_extension": ".py"
  },
  "kernelspec": {
   "name": "python3",
   "display_name": "Python 3.8.5 64-bit ('base': conda)"
  },
  "interpreter": {
   "hash": "bdb1f293a72cda3337025d9d00554afb1343cd7218118617db03a8cb5103ebd2"
  }
 },
 "nbformat": 4,
 "nbformat_minor": 2
}