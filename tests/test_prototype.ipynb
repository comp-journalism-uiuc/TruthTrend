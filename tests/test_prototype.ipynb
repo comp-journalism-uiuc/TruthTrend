{
 "cells": [
  {
   "cell_type": "code",
   "execution_count": 1,
   "source": [
    "#news stuff\r\n",
    "import newspaper\r\n",
    "from newsapi import NewsApiClient\r\n",
    "\r\n",
    "#utilities\r\n",
    "from datetime import date\r\n",
    "import pandas as pd\r\n",
    "import numpy as np\r\n",
    "\r\n",
    "#cluster stuff\r\n",
    "from sklearn.cluster import DBSCAN\r\n",
    "from sklearn.metrics import pairwise_distances_argmin_min\r\n",
    "from sklearn.neighbors import NearestNeighbors\r\n",
    "\r\n",
    "#nlp stuff\r\n",
    "import spacy\r\n",
    "nlp = spacy.load('en_core_web_lg')\r\n",
    "\r\n",
    "#summarization\r\n",
    "from rake_nltk import Rake\r\n",
    "rake_nltk_var = Rake()"
   ],
   "outputs": [],
   "metadata": {}
  },
  {
   "cell_type": "code",
   "execution_count": 2,
   "source": [
    "api_key = '5964b2e875064a83a9033afc11f48101'\r\n",
    "newsapi = NewsApiClient(api_key=api_key)"
   ],
   "outputs": [],
   "metadata": {}
  },
  {
   "cell_type": "code",
   "execution_count": 3,
   "source": [
    "def get_trending_articles_today(num_trends):\r\n",
    "    today = date.today().strftime(\"%Y-%m-%d\")\r\n",
    "\r\n",
    "    trending_topics = newspaper.hot()\r\n",
    "    if num_trends < len(trending_topics):\r\n",
    "        trending_topics = trending_topics[:num_trends]\r\n",
    "\r\n",
    "    data = []\r\n",
    "    for topic in trending_topics:\r\n",
    "        articles = []\r\n",
    "        for i in range(1, 5):\r\n",
    "            page_articles = newsapi.get_everything(q=topic,\r\n",
    "                                      language='en',\r\n",
    "                                      from_param=today,\r\n",
    "                                      page=i)\r\n",
    "\r\n",
    "            if len(page_articles) == 0:\r\n",
    "                break\r\n",
    "            else:\r\n",
    "                articles.extend(page_articles[\"articles\"])\r\n",
    "\r\n",
    "        # add article info\r\n",
    "        article_info = [(article['publishedAt'], article['title'], article['url'], topic) for article in articles]\r\n",
    "        data.extend(article_info)\r\n",
    "    \r\n",
    "    return pd.DataFrame(data, columns=[\"date\", \"title\", \"url\", \"topic\"])"
   ],
   "outputs": [],
   "metadata": {}
  },
  {
   "cell_type": "code",
   "execution_count": 4,
   "source": [
    "def preprocess_text(text):\r\n",
    "    doc = nlp(text)\r\n",
    "    tokens = [w.lower_ for w in doc if not (w.is_stop or w.is_punct)]\r\n",
    "    preproc_text = \" \".join(tokens) \r\n",
    "    return preproc_text "
   ],
   "outputs": [],
   "metadata": {}
  },
  {
   "cell_type": "code",
   "execution_count": 26,
   "source": [
    "def get_best_eps_val(vectors, neighbors=2):\r\n",
    "    neigh = NearestNeighbors(n_neighbors=neighbors)\r\n",
    "    nbrs = neigh.fit(vectors)\r\n",
    "\r\n",
    "    distances, indices = nbrs.kneighbors(vectors)\r\n",
    "\r\n",
    "    # return half of first non zero distance value\r\n",
    "    distances = np.sort(distances, axis=0)\r\n",
    "    distances = distances[:,1]\r\n",
    "    non_zero = distances.nonzero()\r\n",
    "\r\n",
    "    return distances[non_zero[0][0]] / 2, distances"
   ],
   "outputs": [],
   "metadata": {}
  },
  {
   "cell_type": "code",
   "execution_count": 35,
   "source": [
    "def get_best_min_sample_val(num_total_articles, factor=132):\r\n",
    "    return int(num_total_articles / factor)\r\n",
    "\r\n",
    "\r\n",
    "def cluster_articles(df):\r\n",
    "    sent_vecs = {}\r\n",
    "    # make each article title into a vector\r\n",
    "    for title in df.title:\r\n",
    "        try:\r\n",
    "            doc = nlp(preprocess_text(title))\r\n",
    "            sent_vecs.update({title: doc.vector})\r\n",
    "        except Exception as e:\r\n",
    "            print(e)\r\n",
    "\r\n",
    "    vectors = list(sent_vecs.values())\r\n",
    "    x = np.array(vectors)\r\n",
    "\r\n",
    "    # finds best hyper parameters for dbscan\r\n",
    "    eps, distances = get_best_eps_val(x)\r\n",
    "    print(eps)\r\n",
    "    min_articles = get_best_min_sample_val(len(df))\r\n",
    "    # clusters articles using dbscan\r\n",
    "    dbscan = DBSCAN(eps=.25, min_samples=min_articles, metric='cosine').fit(x)\r\n",
    "\r\n",
    "    titles = list(sent_vecs.keys())\r\n",
    "    return pd.DataFrame({'label': dbscan.labels_, 'title': titles, 'vectors': vectors}), distances"
   ],
   "outputs": [],
   "metadata": {}
  },
  {
   "cell_type": "code",
   "execution_count": 7,
   "source": [
    "def get_mean_vec(vectors):\r\n",
    "    total = np.zeros(300)\r\n",
    "    for vec in vectors:\r\n",
    "        total += vec\r\n",
    "\r\n",
    "    mean = total / len(vectors)\r\n",
    "    return mean\r\n"
   ],
   "outputs": [],
   "metadata": {}
  },
  {
   "cell_type": "code",
   "execution_count": 8,
   "source": [
    "def get_central_vec_title(cluster):\r\n",
    "    vectors = cluster.vectors.to_list()\r\n",
    "\r\n",
    "    mean_vec = get_mean_vec(vectors)\r\n",
    "    index = pairwise_distances_argmin_min(np.array([mean_vec]), vectors)[0][0]\r\n",
    "    \r\n",
    "    return cluster.title.iloc[index]"
   ],
   "outputs": [],
   "metadata": {}
  },
  {
   "cell_type": "code",
   "execution_count": 9,
   "source": [
    "def get_categorized_news(clusters, article_df):\r\n",
    "    summarized_news = []\r\n",
    "    for cluster in clusters.label.unique():\r\n",
    "        #unclustered category\r\n",
    "        if cluster == -1:\r\n",
    "            continue\r\n",
    "        \r\n",
    "        # get best article from cluster\r\n",
    "        cluster_titles = clusters.loc[clusters.label == cluster]\r\n",
    "        best_article = get_central_vec_title(cluster_titles)\r\n",
    "\r\n",
    "        #look up in original df\r\n",
    "        cluster_df = article_df.loc[article_df.title == best_article].copy()\r\n",
    "        cluster_df[\"num_articles\"] = len(cluster_titles)\r\n",
    "\r\n",
    "        summarized_news.append(cluster_df)\r\n",
    "\r\n",
    "    return pd.concat(summarized_news)"
   ],
   "outputs": [],
   "metadata": {}
  },
  {
   "cell_type": "code",
   "execution_count": 11,
   "source": [
    "trending_news = get_trending_articles_today(100)\r\n",
    "trending_news = trending_news.drop_duplicates(subset=['title'])"
   ],
   "outputs": [],
   "metadata": {}
  },
  {
   "cell_type": "code",
   "execution_count": 77,
   "source": [
    "# put all trending news into clusters and pick most objective article for each one\r\n",
    "clusters, distances = cluster_articles(trending_news)\r\n",
    "summarized_news = get_categorized_news(clusters, trending_news)\r\n",
    "\r\n",
    "# summarize each cluster\r\n",
    "summarized_news = summarized_news.reset_index(drop=True)"
   ],
   "outputs": [
    {
     "output_type": "stream",
     "name": "stdout",
     "text": [
      "1.1821269451114038e-07\n"
     ]
    }
   ],
   "metadata": {}
  },
  {
   "cell_type": "code",
   "execution_count": 31,
   "source": [
    "import matplotlib.pyplot as plt"
   ],
   "outputs": [],
   "metadata": {}
  },
  {
   "cell_type": "code",
   "execution_count": 32,
   "source": [
    "plt.plot(distances)"
   ],
   "outputs": [
    {
     "output_type": "execute_result",
     "data": {
      "text/plain": [
       "[<matplotlib.lines.Line2D at 0x1dcdb16a910>]"
      ]
     },
     "metadata": {},
     "execution_count": 32
    },
    {
     "output_type": "display_data",
     "data": {
      "text/plain": [
       "<Figure size 432x288 with 1 Axes>"
      ],
      "image/svg+xml": "<?xml version=\"1.0\" encoding=\"utf-8\" standalone=\"no\"?>\r\n<!DOCTYPE svg PUBLIC \"-//W3C//DTD SVG 1.1//EN\"\r\n  \"http://www.w3.org/Graphics/SVG/1.1/DTD/svg11.dtd\">\r\n<!-- Created with matplotlib (https://matplotlib.org/) -->\r\n<svg height=\"248.518125pt\" version=\"1.1\" viewBox=\"0 0 372.103125 248.518125\" width=\"372.103125pt\" xmlns=\"http://www.w3.org/2000/svg\" xmlns:xlink=\"http://www.w3.org/1999/xlink\">\r\n <metadata>\r\n  <rdf:RDF xmlns:cc=\"http://creativecommons.org/ns#\" xmlns:dc=\"http://purl.org/dc/elements/1.1/\" xmlns:rdf=\"http://www.w3.org/1999/02/22-rdf-syntax-ns#\">\r\n   <cc:Work>\r\n    <dc:type rdf:resource=\"http://purl.org/dc/dcmitype/StillImage\"/>\r\n    <dc:date>2021-08-11T12:58:25.912758</dc:date>\r\n    <dc:format>image/svg+xml</dc:format>\r\n    <dc:creator>\r\n     <cc:Agent>\r\n      <dc:title>Matplotlib v3.3.2, https://matplotlib.org/</dc:title>\r\n     </cc:Agent>\r\n    </dc:creator>\r\n   </cc:Work>\r\n  </rdf:RDF>\r\n </metadata>\r\n <defs>\r\n  <style type=\"text/css\">*{stroke-linecap:butt;stroke-linejoin:round;}</style>\r\n </defs>\r\n <g id=\"figure_1\">\r\n  <g id=\"patch_1\">\r\n   <path d=\"M 0 248.518125 \r\nL 372.103125 248.518125 \r\nL 372.103125 0 \r\nL 0 0 \r\nz\r\n\" style=\"fill:none;\"/>\r\n  </g>\r\n  <g id=\"axes_1\">\r\n   <g id=\"patch_2\">\r\n    <path d=\"M 30.103125 224.64 \r\nL 364.903125 224.64 \r\nL 364.903125 7.2 \r\nL 30.103125 7.2 \r\nz\r\n\" style=\"fill:#ffffff;\"/>\r\n   </g>\r\n   <g id=\"matplotlib.axis_1\">\r\n    <g id=\"xtick_1\">\r\n     <g id=\"line2d_1\">\r\n      <defs>\r\n       <path d=\"M 0 0 \r\nL 0 3.5 \r\n\" id=\"mc53371221d\" style=\"stroke:#000000;stroke-width:0.8;\"/>\r\n      </defs>\r\n      <g>\r\n       <use style=\"stroke:#000000;stroke-width:0.8;\" x=\"45.321307\" xlink:href=\"#mc53371221d\" y=\"224.64\"/>\r\n      </g>\r\n     </g>\r\n     <g id=\"text_1\">\r\n      <!-- 0 -->\r\n      <g transform=\"translate(42.140057 239.238437)scale(0.1 -0.1)\">\r\n       <defs>\r\n        <path d=\"M 31.78125 66.40625 \r\nQ 24.171875 66.40625 20.328125 58.90625 \r\nQ 16.5 51.421875 16.5 36.375 \r\nQ 16.5 21.390625 20.328125 13.890625 \r\nQ 24.171875 6.390625 31.78125 6.390625 \r\nQ 39.453125 6.390625 43.28125 13.890625 \r\nQ 47.125 21.390625 47.125 36.375 \r\nQ 47.125 51.421875 43.28125 58.90625 \r\nQ 39.453125 66.40625 31.78125 66.40625 \r\nz\r\nM 31.78125 74.21875 \r\nQ 44.046875 74.21875 50.515625 64.515625 \r\nQ 56.984375 54.828125 56.984375 36.375 \r\nQ 56.984375 17.96875 50.515625 8.265625 \r\nQ 44.046875 -1.421875 31.78125 -1.421875 \r\nQ 19.53125 -1.421875 13.0625 8.265625 \r\nQ 6.59375 17.96875 6.59375 36.375 \r\nQ 6.59375 54.828125 13.0625 64.515625 \r\nQ 19.53125 74.21875 31.78125 74.21875 \r\nz\r\n\" id=\"DejaVuSans-48\"/>\r\n       </defs>\r\n       <use xlink:href=\"#DejaVuSans-48\"/>\r\n      </g>\r\n     </g>\r\n    </g>\r\n    <g id=\"xtick_2\">\r\n     <g id=\"line2d_2\">\r\n      <g>\r\n       <use style=\"stroke:#000000;stroke-width:0.8;\" x=\"95.216985\" xlink:href=\"#mc53371221d\" y=\"224.64\"/>\r\n      </g>\r\n     </g>\r\n     <g id=\"text_2\">\r\n      <!-- 100 -->\r\n      <g transform=\"translate(85.673235 239.238437)scale(0.1 -0.1)\">\r\n       <defs>\r\n        <path d=\"M 12.40625 8.296875 \r\nL 28.515625 8.296875 \r\nL 28.515625 63.921875 \r\nL 10.984375 60.40625 \r\nL 10.984375 69.390625 \r\nL 28.421875 72.90625 \r\nL 38.28125 72.90625 \r\nL 38.28125 8.296875 \r\nL 54.390625 8.296875 \r\nL 54.390625 0 \r\nL 12.40625 0 \r\nz\r\n\" id=\"DejaVuSans-49\"/>\r\n       </defs>\r\n       <use xlink:href=\"#DejaVuSans-49\"/>\r\n       <use x=\"63.623047\" xlink:href=\"#DejaVuSans-48\"/>\r\n       <use x=\"127.246094\" xlink:href=\"#DejaVuSans-48\"/>\r\n      </g>\r\n     </g>\r\n    </g>\r\n    <g id=\"xtick_3\">\r\n     <g id=\"line2d_3\">\r\n      <g>\r\n       <use style=\"stroke:#000000;stroke-width:0.8;\" x=\"145.112663\" xlink:href=\"#mc53371221d\" y=\"224.64\"/>\r\n      </g>\r\n     </g>\r\n     <g id=\"text_3\">\r\n      <!-- 200 -->\r\n      <g transform=\"translate(135.568913 239.238437)scale(0.1 -0.1)\">\r\n       <defs>\r\n        <path d=\"M 19.1875 8.296875 \r\nL 53.609375 8.296875 \r\nL 53.609375 0 \r\nL 7.328125 0 \r\nL 7.328125 8.296875 \r\nQ 12.9375 14.109375 22.625 23.890625 \r\nQ 32.328125 33.6875 34.8125 36.53125 \r\nQ 39.546875 41.84375 41.421875 45.53125 \r\nQ 43.3125 49.21875 43.3125 52.78125 \r\nQ 43.3125 58.59375 39.234375 62.25 \r\nQ 35.15625 65.921875 28.609375 65.921875 \r\nQ 23.96875 65.921875 18.8125 64.3125 \r\nQ 13.671875 62.703125 7.8125 59.421875 \r\nL 7.8125 69.390625 \r\nQ 13.765625 71.78125 18.9375 73 \r\nQ 24.125 74.21875 28.421875 74.21875 \r\nQ 39.75 74.21875 46.484375 68.546875 \r\nQ 53.21875 62.890625 53.21875 53.421875 \r\nQ 53.21875 48.921875 51.53125 44.890625 \r\nQ 49.859375 40.875 45.40625 35.40625 \r\nQ 44.1875 33.984375 37.640625 27.21875 \r\nQ 31.109375 20.453125 19.1875 8.296875 \r\nz\r\n\" id=\"DejaVuSans-50\"/>\r\n       </defs>\r\n       <use xlink:href=\"#DejaVuSans-50\"/>\r\n       <use x=\"63.623047\" xlink:href=\"#DejaVuSans-48\"/>\r\n       <use x=\"127.246094\" xlink:href=\"#DejaVuSans-48\"/>\r\n      </g>\r\n     </g>\r\n    </g>\r\n    <g id=\"xtick_4\">\r\n     <g id=\"line2d_4\">\r\n      <g>\r\n       <use style=\"stroke:#000000;stroke-width:0.8;\" x=\"195.008341\" xlink:href=\"#mc53371221d\" y=\"224.64\"/>\r\n      </g>\r\n     </g>\r\n     <g id=\"text_4\">\r\n      <!-- 300 -->\r\n      <g transform=\"translate(185.464591 239.238437)scale(0.1 -0.1)\">\r\n       <defs>\r\n        <path d=\"M 40.578125 39.3125 \r\nQ 47.65625 37.796875 51.625 33 \r\nQ 55.609375 28.21875 55.609375 21.1875 \r\nQ 55.609375 10.40625 48.1875 4.484375 \r\nQ 40.765625 -1.421875 27.09375 -1.421875 \r\nQ 22.515625 -1.421875 17.65625 -0.515625 \r\nQ 12.796875 0.390625 7.625 2.203125 \r\nL 7.625 11.71875 \r\nQ 11.71875 9.328125 16.59375 8.109375 \r\nQ 21.484375 6.890625 26.8125 6.890625 \r\nQ 36.078125 6.890625 40.9375 10.546875 \r\nQ 45.796875 14.203125 45.796875 21.1875 \r\nQ 45.796875 27.640625 41.28125 31.265625 \r\nQ 36.765625 34.90625 28.71875 34.90625 \r\nL 20.21875 34.90625 \r\nL 20.21875 43.015625 \r\nL 29.109375 43.015625 \r\nQ 36.375 43.015625 40.234375 45.921875 \r\nQ 44.09375 48.828125 44.09375 54.296875 \r\nQ 44.09375 59.90625 40.109375 62.90625 \r\nQ 36.140625 65.921875 28.71875 65.921875 \r\nQ 24.65625 65.921875 20.015625 65.03125 \r\nQ 15.375 64.15625 9.8125 62.3125 \r\nL 9.8125 71.09375 \r\nQ 15.4375 72.65625 20.34375 73.4375 \r\nQ 25.25 74.21875 29.59375 74.21875 \r\nQ 40.828125 74.21875 47.359375 69.109375 \r\nQ 53.90625 64.015625 53.90625 55.328125 \r\nQ 53.90625 49.265625 50.4375 45.09375 \r\nQ 46.96875 40.921875 40.578125 39.3125 \r\nz\r\n\" id=\"DejaVuSans-51\"/>\r\n       </defs>\r\n       <use xlink:href=\"#DejaVuSans-51\"/>\r\n       <use x=\"63.623047\" xlink:href=\"#DejaVuSans-48\"/>\r\n       <use x=\"127.246094\" xlink:href=\"#DejaVuSans-48\"/>\r\n      </g>\r\n     </g>\r\n    </g>\r\n    <g id=\"xtick_5\">\r\n     <g id=\"line2d_5\">\r\n      <g>\r\n       <use style=\"stroke:#000000;stroke-width:0.8;\" x=\"244.904019\" xlink:href=\"#mc53371221d\" y=\"224.64\"/>\r\n      </g>\r\n     </g>\r\n     <g id=\"text_5\">\r\n      <!-- 400 -->\r\n      <g transform=\"translate(235.360269 239.238437)scale(0.1 -0.1)\">\r\n       <defs>\r\n        <path d=\"M 37.796875 64.3125 \r\nL 12.890625 25.390625 \r\nL 37.796875 25.390625 \r\nz\r\nM 35.203125 72.90625 \r\nL 47.609375 72.90625 \r\nL 47.609375 25.390625 \r\nL 58.015625 25.390625 \r\nL 58.015625 17.1875 \r\nL 47.609375 17.1875 \r\nL 47.609375 0 \r\nL 37.796875 0 \r\nL 37.796875 17.1875 \r\nL 4.890625 17.1875 \r\nL 4.890625 26.703125 \r\nz\r\n\" id=\"DejaVuSans-52\"/>\r\n       </defs>\r\n       <use xlink:href=\"#DejaVuSans-52\"/>\r\n       <use x=\"63.623047\" xlink:href=\"#DejaVuSans-48\"/>\r\n       <use x=\"127.246094\" xlink:href=\"#DejaVuSans-48\"/>\r\n      </g>\r\n     </g>\r\n    </g>\r\n    <g id=\"xtick_6\">\r\n     <g id=\"line2d_6\">\r\n      <g>\r\n       <use style=\"stroke:#000000;stroke-width:0.8;\" x=\"294.799697\" xlink:href=\"#mc53371221d\" y=\"224.64\"/>\r\n      </g>\r\n     </g>\r\n     <g id=\"text_6\">\r\n      <!-- 500 -->\r\n      <g transform=\"translate(285.255947 239.238437)scale(0.1 -0.1)\">\r\n       <defs>\r\n        <path d=\"M 10.796875 72.90625 \r\nL 49.515625 72.90625 \r\nL 49.515625 64.59375 \r\nL 19.828125 64.59375 \r\nL 19.828125 46.734375 \r\nQ 21.96875 47.46875 24.109375 47.828125 \r\nQ 26.265625 48.1875 28.421875 48.1875 \r\nQ 40.625 48.1875 47.75 41.5 \r\nQ 54.890625 34.8125 54.890625 23.390625 \r\nQ 54.890625 11.625 47.5625 5.09375 \r\nQ 40.234375 -1.421875 26.90625 -1.421875 \r\nQ 22.3125 -1.421875 17.546875 -0.640625 \r\nQ 12.796875 0.140625 7.71875 1.703125 \r\nL 7.71875 11.625 \r\nQ 12.109375 9.234375 16.796875 8.0625 \r\nQ 21.484375 6.890625 26.703125 6.890625 \r\nQ 35.15625 6.890625 40.078125 11.328125 \r\nQ 45.015625 15.765625 45.015625 23.390625 \r\nQ 45.015625 31 40.078125 35.4375 \r\nQ 35.15625 39.890625 26.703125 39.890625 \r\nQ 22.75 39.890625 18.8125 39.015625 \r\nQ 14.890625 38.140625 10.796875 36.28125 \r\nz\r\n\" id=\"DejaVuSans-53\"/>\r\n       </defs>\r\n       <use xlink:href=\"#DejaVuSans-53\"/>\r\n       <use x=\"63.623047\" xlink:href=\"#DejaVuSans-48\"/>\r\n       <use x=\"127.246094\" xlink:href=\"#DejaVuSans-48\"/>\r\n      </g>\r\n     </g>\r\n    </g>\r\n    <g id=\"xtick_7\">\r\n     <g id=\"line2d_7\">\r\n      <g>\r\n       <use style=\"stroke:#000000;stroke-width:0.8;\" x=\"344.695375\" xlink:href=\"#mc53371221d\" y=\"224.64\"/>\r\n      </g>\r\n     </g>\r\n     <g id=\"text_7\">\r\n      <!-- 600 -->\r\n      <g transform=\"translate(335.151625 239.238437)scale(0.1 -0.1)\">\r\n       <defs>\r\n        <path d=\"M 33.015625 40.375 \r\nQ 26.375 40.375 22.484375 35.828125 \r\nQ 18.609375 31.296875 18.609375 23.390625 \r\nQ 18.609375 15.53125 22.484375 10.953125 \r\nQ 26.375 6.390625 33.015625 6.390625 \r\nQ 39.65625 6.390625 43.53125 10.953125 \r\nQ 47.40625 15.53125 47.40625 23.390625 \r\nQ 47.40625 31.296875 43.53125 35.828125 \r\nQ 39.65625 40.375 33.015625 40.375 \r\nz\r\nM 52.59375 71.296875 \r\nL 52.59375 62.3125 \r\nQ 48.875 64.0625 45.09375 64.984375 \r\nQ 41.3125 65.921875 37.59375 65.921875 \r\nQ 27.828125 65.921875 22.671875 59.328125 \r\nQ 17.53125 52.734375 16.796875 39.40625 \r\nQ 19.671875 43.65625 24.015625 45.921875 \r\nQ 28.375 48.1875 33.59375 48.1875 \r\nQ 44.578125 48.1875 50.953125 41.515625 \r\nQ 57.328125 34.859375 57.328125 23.390625 \r\nQ 57.328125 12.15625 50.6875 5.359375 \r\nQ 44.046875 -1.421875 33.015625 -1.421875 \r\nQ 20.359375 -1.421875 13.671875 8.265625 \r\nQ 6.984375 17.96875 6.984375 36.375 \r\nQ 6.984375 53.65625 15.1875 63.9375 \r\nQ 23.390625 74.21875 37.203125 74.21875 \r\nQ 40.921875 74.21875 44.703125 73.484375 \r\nQ 48.484375 72.75 52.59375 71.296875 \r\nz\r\n\" id=\"DejaVuSans-54\"/>\r\n       </defs>\r\n       <use xlink:href=\"#DejaVuSans-54\"/>\r\n       <use x=\"63.623047\" xlink:href=\"#DejaVuSans-48\"/>\r\n       <use x=\"127.246094\" xlink:href=\"#DejaVuSans-48\"/>\r\n      </g>\r\n     </g>\r\n    </g>\r\n   </g>\r\n   <g id=\"matplotlib.axis_2\">\r\n    <g id=\"ytick_1\">\r\n     <g id=\"line2d_8\">\r\n      <defs>\r\n       <path d=\"M 0 0 \r\nL -3.5 0 \r\n\" id=\"mcb1048df40\" style=\"stroke:#000000;stroke-width:0.8;\"/>\r\n      </defs>\r\n      <g>\r\n       <use style=\"stroke:#000000;stroke-width:0.8;\" x=\"30.103125\" xlink:href=\"#mcb1048df40\" y=\"214.756364\"/>\r\n      </g>\r\n     </g>\r\n     <g id=\"text_8\">\r\n      <!-- 0.0 -->\r\n      <g transform=\"translate(7.2 218.555582)scale(0.1 -0.1)\">\r\n       <defs>\r\n        <path d=\"M 10.6875 12.40625 \r\nL 21 12.40625 \r\nL 21 0 \r\nL 10.6875 0 \r\nz\r\n\" id=\"DejaVuSans-46\"/>\r\n       </defs>\r\n       <use xlink:href=\"#DejaVuSans-48\"/>\r\n       <use x=\"63.623047\" xlink:href=\"#DejaVuSans-46\"/>\r\n       <use x=\"95.410156\" xlink:href=\"#DejaVuSans-48\"/>\r\n      </g>\r\n     </g>\r\n    </g>\r\n    <g id=\"ytick_2\">\r\n     <g id=\"line2d_9\">\r\n      <g>\r\n       <use style=\"stroke:#000000;stroke-width:0.8;\" x=\"30.103125\" xlink:href=\"#mcb1048df40\" y=\"188.343336\"/>\r\n      </g>\r\n     </g>\r\n     <g id=\"text_9\">\r\n      <!-- 0.5 -->\r\n      <g transform=\"translate(7.2 192.142555)scale(0.1 -0.1)\">\r\n       <use xlink:href=\"#DejaVuSans-48\"/>\r\n       <use x=\"63.623047\" xlink:href=\"#DejaVuSans-46\"/>\r\n       <use x=\"95.410156\" xlink:href=\"#DejaVuSans-53\"/>\r\n      </g>\r\n     </g>\r\n    </g>\r\n    <g id=\"ytick_3\">\r\n     <g id=\"line2d_10\">\r\n      <g>\r\n       <use style=\"stroke:#000000;stroke-width:0.8;\" x=\"30.103125\" xlink:href=\"#mcb1048df40\" y=\"161.930308\"/>\r\n      </g>\r\n     </g>\r\n     <g id=\"text_10\">\r\n      <!-- 1.0 -->\r\n      <g transform=\"translate(7.2 165.729527)scale(0.1 -0.1)\">\r\n       <use xlink:href=\"#DejaVuSans-49\"/>\r\n       <use x=\"63.623047\" xlink:href=\"#DejaVuSans-46\"/>\r\n       <use x=\"95.410156\" xlink:href=\"#DejaVuSans-48\"/>\r\n      </g>\r\n     </g>\r\n    </g>\r\n    <g id=\"ytick_4\">\r\n     <g id=\"line2d_11\">\r\n      <g>\r\n       <use style=\"stroke:#000000;stroke-width:0.8;\" x=\"30.103125\" xlink:href=\"#mcb1048df40\" y=\"135.517281\"/>\r\n      </g>\r\n     </g>\r\n     <g id=\"text_11\">\r\n      <!-- 1.5 -->\r\n      <g transform=\"translate(7.2 139.316499)scale(0.1 -0.1)\">\r\n       <use xlink:href=\"#DejaVuSans-49\"/>\r\n       <use x=\"63.623047\" xlink:href=\"#DejaVuSans-46\"/>\r\n       <use x=\"95.410156\" xlink:href=\"#DejaVuSans-53\"/>\r\n      </g>\r\n     </g>\r\n    </g>\r\n    <g id=\"ytick_5\">\r\n     <g id=\"line2d_12\">\r\n      <g>\r\n       <use style=\"stroke:#000000;stroke-width:0.8;\" x=\"30.103125\" xlink:href=\"#mcb1048df40\" y=\"109.104253\"/>\r\n      </g>\r\n     </g>\r\n     <g id=\"text_12\">\r\n      <!-- 2.0 -->\r\n      <g transform=\"translate(7.2 112.903472)scale(0.1 -0.1)\">\r\n       <use xlink:href=\"#DejaVuSans-50\"/>\r\n       <use x=\"63.623047\" xlink:href=\"#DejaVuSans-46\"/>\r\n       <use x=\"95.410156\" xlink:href=\"#DejaVuSans-48\"/>\r\n      </g>\r\n     </g>\r\n    </g>\r\n    <g id=\"ytick_6\">\r\n     <g id=\"line2d_13\">\r\n      <g>\r\n       <use style=\"stroke:#000000;stroke-width:0.8;\" x=\"30.103125\" xlink:href=\"#mcb1048df40\" y=\"82.691225\"/>\r\n      </g>\r\n     </g>\r\n     <g id=\"text_13\">\r\n      <!-- 2.5 -->\r\n      <g transform=\"translate(7.2 86.490444)scale(0.1 -0.1)\">\r\n       <use xlink:href=\"#DejaVuSans-50\"/>\r\n       <use x=\"63.623047\" xlink:href=\"#DejaVuSans-46\"/>\r\n       <use x=\"95.410156\" xlink:href=\"#DejaVuSans-53\"/>\r\n      </g>\r\n     </g>\r\n    </g>\r\n    <g id=\"ytick_7\">\r\n     <g id=\"line2d_14\">\r\n      <g>\r\n       <use style=\"stroke:#000000;stroke-width:0.8;\" x=\"30.103125\" xlink:href=\"#mcb1048df40\" y=\"56.278198\"/>\r\n      </g>\r\n     </g>\r\n     <g id=\"text_14\">\r\n      <!-- 3.0 -->\r\n      <g transform=\"translate(7.2 60.077416)scale(0.1 -0.1)\">\r\n       <use xlink:href=\"#DejaVuSans-51\"/>\r\n       <use x=\"63.623047\" xlink:href=\"#DejaVuSans-46\"/>\r\n       <use x=\"95.410156\" xlink:href=\"#DejaVuSans-48\"/>\r\n      </g>\r\n     </g>\r\n    </g>\r\n    <g id=\"ytick_8\">\r\n     <g id=\"line2d_15\">\r\n      <g>\r\n       <use style=\"stroke:#000000;stroke-width:0.8;\" x=\"30.103125\" xlink:href=\"#mcb1048df40\" y=\"29.86517\"/>\r\n      </g>\r\n     </g>\r\n     <g id=\"text_15\">\r\n      <!-- 3.5 -->\r\n      <g transform=\"translate(7.2 33.664389)scale(0.1 -0.1)\">\r\n       <use xlink:href=\"#DejaVuSans-51\"/>\r\n       <use x=\"63.623047\" xlink:href=\"#DejaVuSans-46\"/>\r\n       <use x=\"95.410156\" xlink:href=\"#DejaVuSans-53\"/>\r\n      </g>\r\n     </g>\r\n    </g>\r\n   </g>\r\n   <g id=\"line2d_16\">\r\n    <path clip-path=\"url(#pa76e3dad13)\" d=\"M 45.321307 214.756364 \r\nL 48.814004 214.756351 \r\nL 49.312961 197.300825 \r\nL 49.811918 197.300825 \r\nL 50.310875 184.522173 \r\nL 50.809831 184.522173 \r\nL 51.308788 184.175757 \r\nL 51.807745 184.175757 \r\nL 52.306702 182.708127 \r\nL 52.805659 182.708127 \r\nL 53.304615 180.265976 \r\nL 53.803572 180.265976 \r\nL 54.302529 179.879594 \r\nL 54.801486 179.879594 \r\nL 55.300442 178.795353 \r\nL 55.799399 178.795353 \r\nL 56.298356 177.697571 \r\nL 56.797313 177.697571 \r\nL 57.29627 177.55473 \r\nL 57.795226 177.55473 \r\nL 58.294183 176.909804 \r\nL 58.79314 176.909804 \r\nL 59.292097 176.73253 \r\nL 59.791053 176.73253 \r\nL 60.29001 174.572597 \r\nL 60.788967 174.572597 \r\nL 61.287924 174.424735 \r\nL 61.786881 174.424735 \r\nL 62.285837 174.239359 \r\nL 63.782708 174.203619 \r\nL 64.281664 172.693022 \r\nL 64.780621 172.693022 \r\nL 65.279578 172.549765 \r\nL 65.778535 172.549765 \r\nL 66.277492 171.31912 \r\nL 66.776448 171.31912 \r\nL 67.275405 171.0708 \r\nL 67.774362 170.009602 \r\nL 68.273319 170.009602 \r\nL 68.772276 168.12608 \r\nL 69.271232 168.12608 \r\nL 69.770189 167.353901 \r\nL 70.269146 167.18849 \r\nL 70.768103 163.239276 \r\nL 71.267059 163.239276 \r\nL 71.766016 160.451702 \r\nL 72.264973 160.451702 \r\nL 72.76393 158.297635 \r\nL 73.262887 158.297635 \r\nL 73.761843 157.857179 \r\nL 74.2608 157.165197 \r\nL 75.258714 154.939442 \r\nL 75.75767 154.939442 \r\nL 76.256627 154.638253 \r\nL 76.755584 154.638253 \r\nL 77.254541 154.524219 \r\nL 77.753498 154.105662 \r\nL 78.252454 153.940169 \r\nL 78.751411 153.940169 \r\nL 79.749325 151.746399 \r\nL 80.248281 151.389159 \r\nL 80.747238 151.389159 \r\nL 81.246195 151.155886 \r\nL 81.745152 151.155886 \r\nL 83.740979 148.811021 \r\nL 86.235763 148.59168 \r\nL 86.73472 148.578692 \r\nL 87.233676 148.149043 \r\nL 87.732633 147.375721 \r\nL 88.23159 147.375721 \r\nL 88.730547 147.020978 \r\nL 89.229504 146.51711 \r\nL 89.72846 146.264242 \r\nL 91.225331 146.255796 \r\nL 91.724287 145.998104 \r\nL 92.722201 145.936091 \r\nL 93.221158 145.809169 \r\nL 94.219071 145.809048 \r\nL 94.718028 145.326111 \r\nL 95.216985 145.146086 \r\nL 95.715942 145.146086 \r\nL 96.214898 144.503336 \r\nL 96.713855 143.666653 \r\nL 97.212812 143.666653 \r\nL 98.210726 143.335045 \r\nL 99.208639 143.196969 \r\nL 100.206553 143.095862 \r\nL 100.70551 142.559305 \r\nL 101.204466 142.559305 \r\nL 101.703423 142.232147 \r\nL 102.701337 142.177657 \r\nL 103.200293 141.455024 \r\nL 104.697164 141.379117 \r\nL 105.196121 141.066186 \r\nL 105.695077 141.066186 \r\nL 106.194034 139.7231 \r\nL 106.692991 139.7231 \r\nL 107.690904 139.104537 \r\nL 108.189861 138.982333 \r\nL 108.688818 138.542905 \r\nL 110.684645 138.371053 \r\nL 111.183602 138.065459 \r\nL 112.181515 138.033338 \r\nL 114.676299 137.68912 \r\nL 115.175256 137.68912 \r\nL 115.674213 137.552215 \r\nL 116.17317 137.53804 \r\nL 117.67004 137.259919 \r\nL 118.168997 137.259919 \r\nL 118.667954 137.132908 \r\nL 119.665867 137.039607 \r\nL 120.164824 136.972269 \r\nL 120.663781 136.736948 \r\nL 121.162738 136.734006 \r\nL 121.661694 136.288394 \r\nL 123.158565 136.260701 \r\nL 123.657521 135.66653 \r\nL 124.156478 135.341444 \r\nL 125.154392 135.207271 \r\nL 126.152305 134.548019 \r\nL 126.651262 133.926152 \r\nL 127.150219 133.730435 \r\nL 128.148132 133.710229 \r\nL 128.647089 133.354466 \r\nL 129.146046 133.354466 \r\nL 129.645003 133.126063 \r\nL 130.642916 132.490662 \r\nL 131.64083 132.263295 \r\nL 132.139787 131.649211 \r\nL 132.638743 131.649211 \r\nL 133.1377 131.285966 \r\nL 133.636657 131.218387 \r\nL 134.135614 130.956075 \r\nL 135.133527 130.873181 \r\nL 137.129355 130.619017 \r\nL 138.127268 130.321979 \r\nL 138.626225 129.834828 \r\nL 139.624138 129.644886 \r\nL 140.622052 129.636062 \r\nL 141.121009 128.943187 \r\nL 142.118922 128.822995 \r\nL 142.617879 128.648799 \r\nL 143.116836 128.648799 \r\nL 143.615793 128.307494 \r\nL 144.114749 128.307494 \r\nL 144.613706 127.165357 \r\nL 145.61162 127.045699 \r\nL 146.110577 127.045699 \r\nL 146.609533 126.736891 \r\nL 148.60536 126.266881 \r\nL 150.102231 125.669095 \r\nL 150.601188 125.669095 \r\nL 151.100144 125.27449 \r\nL 157.087626 124.207889 \r\nL 157.586583 124.193173 \r\nL 158.085539 123.863398 \r\nL 158.584496 123.863398 \r\nL 159.083453 123.607272 \r\nL 161.07928 123.268641 \r\nL 162.077194 123.094274 \r\nL 162.57615 122.759246 \r\nL 165.070934 122.324024 \r\nL 165.569891 122.290028 \r\nL 166.068848 121.958625 \r\nL 168.563632 121.850328 \r\nL 169.561545 121.136033 \r\nL 170.559459 121.086282 \r\nL 171.058416 120.674618 \r\nL 172.555286 120.154758 \r\nL 173.054243 120.019191 \r\nL 173.5532 120.019191 \r\nL 174.551113 119.401907 \r\nL 175.549027 118.939373 \r\nL 176.047983 118.395998 \r\nL 176.54694 118.212593 \r\nL 178.542767 118.031275 \r\nL 180.538594 117.770425 \r\nL 182.035465 117.728025 \r\nL 183.033378 117.522737 \r\nL 183.532335 117.521271 \r\nL 184.031292 117.339182 \r\nL 186.027119 117.21361 \r\nL 187.025033 117.147302 \r\nL 187.523989 116.879907 \r\nL 188.022946 116.863851 \r\nL 189.02086 116.402743 \r\nL 190.018773 116.2724 \r\nL 190.51773 116.2724 \r\nL 191.515644 115.675119 \r\nL 194.509384 115.108399 \r\nL 198.999995 114.699406 \r\nL 199.498952 114.414055 \r\nL 199.997909 114.414055 \r\nL 200.496866 114.288194 \r\nL 201.494779 114.268567 \r\nL 201.993736 114.139519 \r\nL 202.492693 113.82964 \r\nL 202.99165 113.669375 \r\nL 203.490606 113.669375 \r\nL 203.989563 113.273827 \r\nL 204.48852 113.249623 \r\nL 205.98539 112.657933 \r\nL 206.484347 112.441577 \r\nL 207.482261 112.418789 \r\nL 207.981217 112.232152 \r\nL 208.480174 112.232152 \r\nL 209.478088 111.966109 \r\nL 210.476001 111.956807 \r\nL 210.974958 111.416649 \r\nL 211.473915 111.416649 \r\nL 211.972872 111.246453 \r\nL 212.471828 111.246453 \r\nL 212.970785 110.975533 \r\nL 213.968699 110.813873 \r\nL 214.966612 110.728719 \r\nL 215.964526 110.530793 \r\nL 218.45931 110.40164 \r\nL 219.95618 109.584297 \r\nL 220.455137 109.08625 \r\nL 222.450964 108.630175 \r\nL 222.949921 107.812748 \r\nL 223.448878 107.602621 \r\nL 223.947834 107.602621 \r\nL 224.446791 107.36043 \r\nL 224.945748 107.325903 \r\nL 225.444705 107.166918 \r\nL 226.442618 107.100134 \r\nL 226.941575 106.820671 \r\nL 227.939489 106.586158 \r\nL 228.438445 106.357503 \r\nL 229.436359 106.248244 \r\nL 229.935316 105.930682 \r\nL 230.434273 105.930682 \r\nL 230.933229 105.557479 \r\nL 231.931143 105.284932 \r\nL 232.4301 105.086511 \r\nL 232.929056 105.051451 \r\nL 233.428013 104.899602 \r\nL 233.92697 104.556655 \r\nL 234.425927 104.556655 \r\nL 235.922797 104.325397 \r\nL 238.916538 103.998228 \r\nL 239.914451 103.686733 \r\nL 241.411322 103.33948 \r\nL 241.910279 103.130264 \r\nL 242.409235 103.12834 \r\nL 242.908192 102.829423 \r\nL 243.906106 102.775573 \r\nL 244.405062 102.57798 \r\nL 244.904019 102.57798 \r\nL 245.402976 102.418935 \r\nL 246.40089 101.622189 \r\nL 247.398803 101.316705 \r\nL 247.89776 100.828338 \r\nL 250.392544 100.59127 \r\nL 250.891501 100.456292 \r\nL 251.390457 100.058984 \r\nL 251.889414 99.883199 \r\nL 252.887328 99.725164 \r\nL 253.386284 99.694049 \r\nL 254.384198 99.435366 \r\nL 255.382112 99.34324 \r\nL 255.881068 99.178712 \r\nL 256.380025 99.178712 \r\nL 256.878982 98.668978 \r\nL 257.876895 98.548506 \r\nL 258.375852 98.495532 \r\nL 258.874809 98.295387 \r\nL 259.373766 97.858617 \r\nL 262.367507 97.529569 \r\nL 262.866463 97.222257 \r\nL 263.36542 96.696857 \r\nL 264.363334 96.531739 \r\nL 264.86229 96.065542 \r\nL 265.361247 95.832555 \r\nL 266.858118 95.660498 \r\nL 267.357074 95.335195 \r\nL 267.856031 95.211859 \r\nL 268.354988 94.734405 \r\nL 271.847685 94.17201 \r\nL 272.346642 94.010627 \r\nL 273.843512 93.921125 \r\nL 277.835167 93.454484 \r\nL 278.334124 93.042249 \r\nL 278.83308 93.005204 \r\nL 279.332037 92.6119 \r\nL 279.830994 92.58849 \r\nL 280.828907 92.379512 \r\nL 282.325778 92.207725 \r\nL 282.824735 91.867724 \r\nL 283.323691 91.834111 \r\nL 284.321605 91.437346 \r\nL 284.820562 91.129831 \r\nL 286.317432 91.002118 \r\nL 286.816389 90.306135 \r\nL 288.313259 89.945577 \r\nL 288.812216 89.896746 \r\nL 289.810129 89.542268 \r\nL 290.808043 89.397053 \r\nL 291.307 89.195577 \r\nL 291.805957 89.174379 \r\nL 292.304913 88.862507 \r\nL 293.302827 88.782884 \r\nL 294.30074 88.516915 \r\nL 294.799697 87.566251 \r\nL 295.298654 87.562724 \r\nL 295.797611 87.363612 \r\nL 297.294481 87.288409 \r\nL 297.793438 86.925073 \r\nL 298.791352 86.781704 \r\nL 299.290308 86.595826 \r\nL 299.789265 86.230847 \r\nL 300.288222 86.06692 \r\nL 300.787179 86.038362 \r\nL 301.286135 85.880636 \r\nL 302.284049 85.834135 \r\nL 302.783006 85.661315 \r\nL 303.281963 85.09139 \r\nL 304.279876 84.842131 \r\nL 305.27779 84.273707 \r\nL 306.275703 83.989852 \r\nL 306.77466 83.983174 \r\nL 307.772574 83.543251 \r\nL 308.27153 83.51011 \r\nL 308.770487 83.103821 \r\nL 309.269444 82.399638 \r\nL 309.768401 82.045787 \r\nL 310.267357 81.873253 \r\nL 312.263185 81.585727 \r\nL 312.762141 81.306373 \r\nL 313.261098 81.296574 \r\nL 313.760055 80.761468 \r\nL 314.757969 80.296558 \r\nL 315.256925 80.017807 \r\nL 315.755882 79.339934 \r\nL 316.254839 79.204027 \r\nL 317.751709 78.310973 \r\nL 318.250666 77.504817 \r\nL 319.24858 77.188552 \r\nL 320.74545 75.514887 \r\nL 322.24232 75.26684 \r\nL 323.739191 75.151386 \r\nL 324.238147 74.056452 \r\nL 324.737104 74.025676 \r\nL 325.735018 72.944518 \r\nL 326.233974 72.939509 \r\nL 326.732931 72.275957 \r\nL 327.730845 71.850356 \r\nL 328.229802 71.144597 \r\nL 329.227715 70.952035 \r\nL 329.726672 70.568774 \r\nL 330.225629 69.207994 \r\nL 330.724586 68.995076 \r\nL 331.223542 68.193438 \r\nL 331.722499 68.072756 \r\nL 332.221456 67.772721 \r\nL 332.720413 67.672651 \r\nL 333.718326 66.872028 \r\nL 334.217283 65.945684 \r\nL 334.71624 63.999577 \r\nL 335.215197 63.949423 \r\nL 335.714153 62.478304 \r\nL 336.712067 62.254548 \r\nL 337.211024 61.232808 \r\nL 338.208937 60.688683 \r\nL 338.707894 60.531924 \r\nL 339.206851 60.220432 \r\nL 339.705808 57.606045 \r\nL 341.202678 56.785826 \r\nL 341.701635 54.850886 \r\nL 342.699548 54.461889 \r\nL 343.198505 54.103365 \r\nL 343.697462 54.10193 \r\nL 344.196419 51.893917 \r\nL 344.695375 51.285569 \r\nL 345.693289 47.802822 \r\nL 346.192246 44.600118 \r\nL 346.691202 44.484485 \r\nL 347.190159 42.812723 \r\nL 347.689116 35.681558 \r\nL 348.68703 31.530256 \r\nL 349.185986 18.609813 \r\nL 349.684943 17.083636 \r\nL 349.684943 17.083636 \r\n\" style=\"fill:none;stroke:#1f77b4;stroke-linecap:square;stroke-width:1.5;\"/>\r\n   </g>\r\n   <g id=\"patch_3\">\r\n    <path d=\"M 30.103125 224.64 \r\nL 30.103125 7.2 \r\n\" style=\"fill:none;stroke:#000000;stroke-linecap:square;stroke-linejoin:miter;stroke-width:0.8;\"/>\r\n   </g>\r\n   <g id=\"patch_4\">\r\n    <path d=\"M 364.903125 224.64 \r\nL 364.903125 7.2 \r\n\" style=\"fill:none;stroke:#000000;stroke-linecap:square;stroke-linejoin:miter;stroke-width:0.8;\"/>\r\n   </g>\r\n   <g id=\"patch_5\">\r\n    <path d=\"M 30.103125 224.64 \r\nL 364.903125 224.64 \r\n\" style=\"fill:none;stroke:#000000;stroke-linecap:square;stroke-linejoin:miter;stroke-width:0.8;\"/>\r\n   </g>\r\n   <g id=\"patch_6\">\r\n    <path d=\"M 30.103125 7.2 \r\nL 364.903125 7.2 \r\n\" style=\"fill:none;stroke:#000000;stroke-linecap:square;stroke-linejoin:miter;stroke-width:0.8;\"/>\r\n   </g>\r\n  </g>\r\n </g>\r\n <defs>\r\n  <clipPath id=\"pa76e3dad13\">\r\n   <rect height=\"217.44\" width=\"334.8\" x=\"30.103125\" y=\"7.2\"/>\r\n  </clipPath>\r\n </defs>\r\n</svg>\r\n",
      "image/png": "[encoded data removed]"
     },
     "metadata": {
      "needs_background": "light"
     }
    }
   ],
   "metadata": {}
  },
  {
   "cell_type": "code",
   "execution_count": 79,
   "source": [
    "summarized_news"
   ],
   "outputs": [
    {
     "output_type": "execute_result",
     "data": {
      "text/plain": [
       "                   date                                              title  \\\n",
       "0  2021-08-11T10:32:39Z  'Hard Knocks' Power Rankings: Dak Prescott, Mi...   \n",
       "1  2021-08-11T17:10:18Z  NFL playoff teams that could miss postseason i...   \n",
       "2  2021-08-11T13:01:06Z  Chris Cuomo Defied CNN Ban On Advising His Sex...   \n",
       "3  2021-08-11T09:46:30Z  Messi joins PSG: Lionel Messi talks about play...   \n",
       "4  2021-08-11T04:34:17Z  Christina Applegate announces multiple scleros...   \n",
       "5  2021-08-11T01:59:33Z  Idris Elba joins ‘Sonic the Hedgehog 2’ as voi...   \n",
       "6  2021-08-11T15:09:56Z  'This is a mistake': Steve Bannon slams Mike L...   \n",
       "7  2021-08-11T01:37:57Z  OANN and Newsmax sued by Dominion over voting ...   \n",
       "8  2021-08-11T00:30:52Z  Exterran Corp (EXTN) Q2 2021 Earnings Call Tra...   \n",
       "\n",
       "                                                 url  \\\n",
       "0  https://slashdot.org/firehose.pl?op=view&amp;i...   \n",
       "1  https://www.cbssports.com/nfl/news/nfl-playoff...   \n",
       "2  http://www.womensystems.com/2021/08/chris-cuom...   \n",
       "3  https://www.insidesport.co/messi-joins-psg-lio...   \n",
       "4  https://www.scotsman.com/health/christina-appl...   \n",
       "5  https://www.foxnews.com/entertainment/idris-el...   \n",
       "6  https://www.rawstory.com/steve-bannon-mike-lin...   \n",
       "7  https://www.nydailynews.com/news/national/ny-o...   \n",
       "8  https://www.fool.com/earnings/call-transcripts...   \n",
       "\n",
       "                      topic  num_articles  \n",
       "0          Hard Knocks 2021            47  \n",
       "1          Hard Knocks 2021             4  \n",
       "2             Kerry Kennedy           271  \n",
       "3                       PSG            83  \n",
       "4       Christina Applegate             4  \n",
       "5                Idris Elba            16  \n",
       "6              Mike Lindell             7  \n",
       "7              Mike Lindell             5  \n",
       "8  Infrastructure bill 2021             9  "
      ],
      "text/html": [
       "<div>\n",
       "<style scoped>\n",
       "    .dataframe tbody tr th:only-of-type {\n",
       "        vertical-align: middle;\n",
       "    }\n",
       "\n",
       "    .dataframe tbody tr th {\n",
       "        vertical-align: top;\n",
       "    }\n",
       "\n",
       "    .dataframe thead th {\n",
       "        text-align: right;\n",
       "    }\n",
       "</style>\n",
       "<table border=\"1\" class=\"dataframe\">\n",
       "  <thead>\n",
       "    <tr style=\"text-align: right;\">\n",
       "      <th></th>\n",
       "      <th>date</th>\n",
       "      <th>title</th>\n",
       "      <th>url</th>\n",
       "      <th>topic</th>\n",
       "      <th>num_articles</th>\n",
       "    </tr>\n",
       "  </thead>\n",
       "  <tbody>\n",
       "    <tr>\n",
       "      <th>0</th>\n",
       "      <td>2021-08-11T10:32:39Z</td>\n",
       "      <td>'Hard Knocks' Power Rankings: Dak Prescott, Mi...</td>\n",
       "      <td>https://slashdot.org/firehose.pl?op=view&amp;amp;i...</td>\n",
       "      <td>Hard Knocks 2021</td>\n",
       "      <td>47</td>\n",
       "    </tr>\n",
       "    <tr>\n",
       "      <th>1</th>\n",
       "      <td>2021-08-11T17:10:18Z</td>\n",
       "      <td>NFL playoff teams that could miss postseason i...</td>\n",
       "      <td>https://www.cbssports.com/nfl/news/nfl-playoff...</td>\n",
       "      <td>Hard Knocks 2021</td>\n",
       "      <td>4</td>\n",
       "    </tr>\n",
       "    <tr>\n",
       "      <th>2</th>\n",
       "      <td>2021-08-11T13:01:06Z</td>\n",
       "      <td>Chris Cuomo Defied CNN Ban On Advising His Sex...</td>\n",
       "      <td>http://www.womensystems.com/2021/08/chris-cuom...</td>\n",
       "      <td>Kerry Kennedy</td>\n",
       "      <td>271</td>\n",
       "    </tr>\n",
       "    <tr>\n",
       "      <th>3</th>\n",
       "      <td>2021-08-11T09:46:30Z</td>\n",
       "      <td>Messi joins PSG: Lionel Messi talks about play...</td>\n",
       "      <td>https://www.insidesport.co/messi-joins-psg-lio...</td>\n",
       "      <td>PSG</td>\n",
       "      <td>83</td>\n",
       "    </tr>\n",
       "    <tr>\n",
       "      <th>4</th>\n",
       "      <td>2021-08-11T04:34:17Z</td>\n",
       "      <td>Christina Applegate announces multiple scleros...</td>\n",
       "      <td>https://www.scotsman.com/health/christina-appl...</td>\n",
       "      <td>Christina Applegate</td>\n",
       "      <td>4</td>\n",
       "    </tr>\n",
       "    <tr>\n",
       "      <th>5</th>\n",
       "      <td>2021-08-11T01:59:33Z</td>\n",
       "      <td>Idris Elba joins ‘Sonic the Hedgehog 2’ as voi...</td>\n",
       "      <td>https://www.foxnews.com/entertainment/idris-el...</td>\n",
       "      <td>Idris Elba</td>\n",
       "      <td>16</td>\n",
       "    </tr>\n",
       "    <tr>\n",
       "      <th>6</th>\n",
       "      <td>2021-08-11T15:09:56Z</td>\n",
       "      <td>'This is a mistake': Steve Bannon slams Mike L...</td>\n",
       "      <td>https://www.rawstory.com/steve-bannon-mike-lin...</td>\n",
       "      <td>Mike Lindell</td>\n",
       "      <td>7</td>\n",
       "    </tr>\n",
       "    <tr>\n",
       "      <th>7</th>\n",
       "      <td>2021-08-11T01:37:57Z</td>\n",
       "      <td>OANN and Newsmax sued by Dominion over voting ...</td>\n",
       "      <td>https://www.nydailynews.com/news/national/ny-o...</td>\n",
       "      <td>Mike Lindell</td>\n",
       "      <td>5</td>\n",
       "    </tr>\n",
       "    <tr>\n",
       "      <th>8</th>\n",
       "      <td>2021-08-11T00:30:52Z</td>\n",
       "      <td>Exterran Corp (EXTN) Q2 2021 Earnings Call Tra...</td>\n",
       "      <td>https://www.fool.com/earnings/call-transcripts...</td>\n",
       "      <td>Infrastructure bill 2021</td>\n",
       "      <td>9</td>\n",
       "    </tr>\n",
       "  </tbody>\n",
       "</table>\n",
       "</div>"
      ]
     },
     "metadata": {},
     "execution_count": 79
    }
   ],
   "metadata": {}
  },
  {
   "cell_type": "code",
   "execution_count": 38,
   "source": [
    "trending_news.topic.value_counts()"
   ],
   "outputs": [
    {
     "output_type": "execute_result",
     "data": {
      "text/plain": [
       "PSG                            80\n",
       "Andrew Cuomo                   79\n",
       "Infrastructure bill 2021       76\n",
       "Jennifer Aniston               69\n",
       "Tropical Storm Fred            58\n",
       "Mike Lindell                   41\n",
       "Phillies                       33\n",
       "Idris Elba                     30\n",
       "Hard Knocks 2021               24\n",
       "Dennis Schroder                23\n",
       "Kylie Jenner                   21\n",
       "Kissing Booth 3                19\n",
       "Cameron Burrell                12\n",
       "Tony Esposito                  12\n",
       "Excessive heat warning         10\n",
       "Christina Applegate            10\n",
       "Kerry Kennedy                   7\n",
       "Severe thunderstorm warning     6\n",
       "Vicente Fernandez               1\n",
       "Name: topic, dtype: int64"
      ]
     },
     "metadata": {},
     "execution_count": 38
    }
   ],
   "metadata": {}
  }
 ],
 "metadata": {
  "orig_nbformat": 4,
  "language_info": {
   "name": "python",
   "version": "3.8.5",
   "mimetype": "text/x-python",
   "codemirror_mode": {
    "name": "ipython",
    "version": 3
   },
   "pygments_lexer": "ipython3",
   "nbconvert_exporter": "python",
   "file_extension": ".py"
  },
  "kernelspec": {
   "name": "python3",
   "display_name": "Python 3.8.5 64-bit ('base': conda)"
  },
  "interpreter": {
   "hash": "bdb1f293a72cda3337025d9d00554afb1343cd7218118617db03a8cb5103ebd2"
  }
 },
 "nbformat": 4,
 "nbformat_minor": 2
}