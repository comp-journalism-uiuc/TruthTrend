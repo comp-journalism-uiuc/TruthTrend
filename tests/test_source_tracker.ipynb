{
 "cells": [
  {
   "cell_type": "code",
   "execution_count": 1,
   "source": [
    "import pandas as pd\r\n",
    "import numpy as np\r\n",
    "from random import randint\r\n",
    "from newspaper import Article\r\n",
    "import re\r\n",
    "import matplotlib.pyplot as plt\r\n",
    "import pydot\r\n",
    "from networkx.drawing.nx_pydot import graphviz_layout\r\n",
    "\r\n",
    "from urllib.parse import urlparse\r\n",
    "from bs4 import BeautifulSoup\r\n",
    "import requests\r\n",
    "import networkx as nx"
   ],
   "outputs": [],
   "metadata": {}
  },
  {
   "cell_type": "code",
   "execution_count": 196,
   "source": [
    "all_news = pd.read_csv(\"../data/all_news.csv\")\r\n",
    "selected_news = pd.read_csv(\"../data/selected_articles.csv\")"
   ],
   "outputs": [],
   "metadata": {}
  },
  {
   "cell_type": "code",
   "execution_count": 8,
   "source": [
    "def get_external_links(url):\r\n",
    "    domain_name = urlparse(url).netloc\r\n",
    "\r\n",
    "    if domain_name == 't.co':\r\n",
    "        domain_name = 'twitter'\r\n",
    "        \r\n",
    "    soup = BeautifulSoup(requests.get(url).content)\r\n",
    "    text = soup.findAll('p')\r\n",
    "\r\n",
    "    external_links = [a.attrs.get('href') for article in text for a in article.findAll('a', href=True) if domain_name not in a.attrs.get('href') and a.attrs.get('href')[0:5] == 'https']\r\n",
    "    return external_links, domain_name"
   ],
   "outputs": [],
   "metadata": {}
  },
  {
   "cell_type": "code",
   "execution_count": 74,
   "source": [
    "def add_to_adjacency_m(level, num_links, nodes, max_depth):\r\n",
    "     # create adjacency matrix\r\n",
    "    if (len(nodes) == 0):\r\n",
    "        nodes.append(np.array(np.append(0, np.repeat(1, num_links))))\r\n",
    "    else:\r\n",
    "        prev = nodes[-1]\r\n",
    "        children = np.repeat(1, num_links)\r\n",
    "        if (level == max_depth):\r\n",
    "            children = np.array([])\r\n",
    "        insert_nodes = np.array(np.insert(np.repeat(0, len(prev)), len(prev), children))\r\n",
    "        \r\n",
    "        # reshape previous nodes to account for new nodes\r\n",
    "        for i in range(0, len(nodes)):\r\n",
    "            if (len(nodes[i]) == len(insert_nodes)):\r\n",
    "                break\r\n",
    "            nodes[i] = np.array(np.insert(nodes[i], len(nodes[i]), np.repeat(0, len(children))))\r\n",
    "\r\n",
    "        nodes.append(insert_nodes)"
   ],
   "outputs": [],
   "metadata": {}
  },
  {
   "cell_type": "code",
   "execution_count": 170,
   "source": [
    "MAX_DEPTH = 3\r\n",
    "def find_source(url, level, all_sources, nodes, all_links):\r\n",
    "    all_links.append(url)\r\n",
    "    # get external links\r\n",
    "    links, domain_name = get_external_links(url)\r\n",
    "\r\n",
    "    # creates adjacency matrix from recursive function\r\n",
    "    add_to_adjacency_m(level, len(links), nodes, MAX_DEPTH)\r\n",
    "\r\n",
    "    # link is a source if it has no external links (base case)\r\n",
    "    if (len(links) == 0):\r\n",
    "        all_sources.append(url)\r\n",
    "        return\r\n",
    "    # depth limit base case\r\n",
    "    if (level >= MAX_DEPTH):\r\n",
    "        return\r\n",
    "    # explore all external links\r\n",
    "    level += 1\r\n",
    "    for link in links:\r\n",
    "        find_source(link, level, all_sources, nodes, all_links)"
   ],
   "outputs": [],
   "metadata": {}
  },
  {
   "cell_type": "markdown",
   "source": [
    "### This daily caller source has a really large tree "
   ],
   "metadata": {}
  },
  {
   "cell_type": "code",
   "execution_count": 190,
   "source": [
    "sub = all_news[all_news.url.str.contains(\"dailycaller\")]\r\n",
    "test_url = sub[sub.title.str.contains(\"Rapino\")].url.values[0]"
   ],
   "outputs": [],
   "metadata": {}
  },
  {
   "cell_type": "code",
   "execution_count": 224,
   "source": [
    "# trying random sample\r\n",
    "test_url = selected_news.sample(1).url.values[0]\r\n",
    "test_url"
   ],
   "outputs": [
    {
     "output_type": "execute_result",
     "data": {
      "text/plain": [
       "'http://www.womensystems.com/2021/09/haitian-deportees-bite-ice-agents-and.html'"
      ]
     },
     "metadata": {},
     "execution_count": 224
    }
   ],
   "metadata": {}
  },
  {
   "cell_type": "code",
   "execution_count": 225,
   "source": [
    "level = 0\r\n",
    "sources = []\r\n",
    "all_nodes = []\r\n",
    "all_articles = []\r\n",
    "find_source(test_url, level, sources, all_nodes, all_articles)"
   ],
   "outputs": [],
   "metadata": {}
  },
  {
   "cell_type": "markdown",
   "source": [
    "### Visualizing source structure"
   ],
   "metadata": {}
  },
  {
   "cell_type": "code",
   "execution_count": 226,
   "source": [
    "A = np.array(all_nodes)\r\n",
    "G = nx.Graph(A)\r\n",
    "pos = graphviz_layout(G, prog=\"dot\")\r\n",
    "nx.draw(G, pos, with_labels=True)"
   ],
   "outputs": [
    {
     "output_type": "display_data",
     "data": {
      "image/png": "[encoded data removed]",
      "text/plain": [
       "<Figure size 432x288 with 1 Axes>"
      ]
     },
     "metadata": {}
    }
   ],
   "metadata": {}
  },
  {
   "cell_type": "code",
   "execution_count": 227,
   "source": [
    "source_keywords = []\r\n",
    "for source in sources:\r\n",
    "    if (\"t.co\" in source) or (\"twitter\" in source) or (\"instagram\" in source):\r\n",
    "        continue\r\n",
    "    else:\r\n",
    "        article = Article(source)\r\n",
    "        article.download()\r\n",
    "        article.parse()\r\n",
    "        article.nlp()\r\n",
    "        source_keywords.append(article.keywords)"
   ],
   "outputs": [],
   "metadata": {}
  },
  {
   "cell_type": "code",
   "execution_count": 228,
   "source": [
    "article = Article(test_url)\r\n",
    "article.download()\r\n",
    "article.parse()\r\n",
    "article.nlp()\r\n",
    "orginal_keywords = article.keywords"
   ],
   "outputs": [],
   "metadata": {}
  },
  {
   "cell_type": "code",
   "execution_count": 229,
   "source": [
    "orginal_keywords"
   ],
   "outputs": [
    {
     "output_type": "execute_result",
     "data": {
      "text/plain": [
       "['agents',\n",
       " '24',\n",
       " 'archive',\n",
       " 'blog',\n",
       " '78',\n",
       " '49',\n",
       " '177',\n",
       " 'flights',\n",
       " '26',\n",
       " 'bite',\n",
       " '75',\n",
       " 'assault',\n",
       " 'deportees',\n",
       " 'haitian',\n",
       " 'ice',\n",
       " 'portauprince',\n",
       " '218',\n",
       " 'pilots',\n",
       " 'deportation',\n",
       " '28']"
      ]
     },
     "metadata": {},
     "execution_count": 229
    }
   ],
   "metadata": {}
  },
  {
   "cell_type": "code",
   "execution_count": 230,
   "source": [
    "source_keywords"
   ],
   "outputs": [
    {
     "output_type": "execute_result",
     "data": {
      "text/plain": [
       "[['flight',\n",
       "  'washington',\n",
       "  'officers',\n",
       "  'enforcement',\n",
       "  'bite',\n",
       "  'ice',\n",
       "  'plane',\n",
       "  'federal',\n",
       "  'runway',\n",
       "  'rio',\n",
       "  'deportation',\n",
       "  'migrants',\n",
       "  'haitian'],\n",
       " ['source',\n",
       "  'familiar',\n",
       "  'men',\n",
       "  'deportees',\n",
       "  'officers',\n",
       "  'immigration',\n",
       "  'deported',\n",
       "  'security',\n",
       "  'arrived',\n",
       "  'assaulted',\n",
       "  'pilots',\n",
       "  'flights',\n",
       "  'injured',\n",
       "  'ice',\n",
       "  'haitian'],\n",
       " ['account', 'suspended']]"
      ]
     },
     "metadata": {},
     "execution_count": 230
    }
   ],
   "metadata": {}
  }
 ],
 "metadata": {
  "orig_nbformat": 4,
  "language_info": {
   "name": "python",
   "version": "3.8.5",
   "mimetype": "text/x-python",
   "codemirror_mode": {
    "name": "ipython",
    "version": 3
   },
   "pygments_lexer": "ipython3",
   "nbconvert_exporter": "python",
   "file_extension": ".py"
  },
  "kernelspec": {
   "name": "python3",
   "display_name": "Python 3.8.5 64-bit ('base': conda)"
  },
  "interpreter": {
   "hash": "bdb1f293a72cda3337025d9d00554afb1343cd7218118617db03a8cb5103ebd2"
  }
 },
 "nbformat": 4,
 "nbformat_minor": 2
}