{
 "cells": [
  {
   "cell_type": "code",
   "execution_count": 42,
   "source": [
    "import pandas as pd\r\n",
    "import numpy as np\r\n",
    "from newspaper import Article\r\n",
    "import re\r\n",
    "\r\n",
    "from bs4 import BeautifulSoup\r\n",
    "import requests"
   ],
   "outputs": [],
   "metadata": {}
  },
  {
   "cell_type": "code",
   "execution_count": 54,
   "source": [
    "all_news = pd.read_csv(\"../data/all_news.csv\")\r\n",
    "test_article = all_news.iloc[15000]\r\n",
    "test_article.url"
   ],
   "outputs": [
    {
     "output_type": "execute_result",
     "data": {
      "text/plain": [
       "'https://www.espn.com/soccer/soccer-transfers/story/4466009/what-eduardo-camavinga-offers-real-madrid-after-transfer-from-rennes'"
      ]
     },
     "metadata": {},
     "execution_count": 54
    }
   ],
   "metadata": {}
  },
  {
   "cell_type": "code",
   "execution_count": 59,
   "source": [
    "article = Article(test_article.url)"
   ],
   "outputs": [],
   "metadata": {}
  },
  {
   "cell_type": "code",
   "execution_count": 60,
   "source": [
    "article.download()\r\n",
    "article.parse()"
   ],
   "outputs": [],
   "metadata": {}
  },
  {
   "cell_type": "code",
   "execution_count": 63,
   "source": [
    "article.images"
   ],
   "outputs": [
    {
     "output_type": "execute_result",
     "data": {
      "text/plain": [
       "{'data:image/svg+xml;base64,PD94bWwgdmVyc2lvbj0iMS4wIiBlbmNvZGluZz0iVVRGLTgiPz48c3ZnIHdpZHRoPSI5OTk5OXB4IiBoZWlnaHQ9Ijk5OTk5cHgiIHZpZXdCb3g9IjAgMCA5OTk5OSA5OTk5OSIgdmVyc2lvbj0iMS4xIiB4bWxucz0iaHR0cDovL3d3dy53My5vcmcvMjAwMC9zdmciIHhtbG5zOnhsaW5rPSJodHRwOi8vd3d3LnczLm9yZy8xOTk5L3hsaW5rIj48ZyBzdHJva2U9Im5vbmUiIGZpbGw9Im5vbmUiIGZpbGwtb3BhY2l0eT0iMCI+PHJlY3QgeD0iMCIgeT0iMCIgd2lkdGg9Ijk5OTk5IiBoZWlnaHQ9Ijk5OTk5Ij48L3JlY3Q+IDwvZz4gPC9zdmc+',\n",
       " 'https://a.espncdn.com/combiner/i?img=%2Fredesign%2Fassets%2Fimg%2Ficons%2FESPN%2Dicon%2Dsoccer.png&w=80&h=80&scale=crop&cquality=40&location=origin',\n",
       " 'https://a.espncdn.com/combiner/i?img=/photo/2020/0901/r739343_1296x1296_1-1.jpg&w=130&h=130&scale=crop&location=center',\n",
       " 'https://a.espncdn.com/combiner/i?img=/photo/2021/0420/soc_36-under-21_1x1.jpg&w=130&h=130&scale=crop&location=center',\n",
       " 'https://a.espncdn.com/combiner/i?img=/photo/2021/0810/r894037_1296x1296_1-1.jpg&w=130&h=130&scale=crop&location=center',\n",
       " 'https://a2.espncdn.com/combiner/i?img=%2Fphoto%2F2021%2F0419%2Fr842877_1296x729_16%2D9.jpg'}"
      ]
     },
     "metadata": {},
     "execution_count": 63
    }
   ],
   "metadata": {}
  },
  {
   "cell_type": "code",
   "execution_count": 64,
   "source": [
    "article.text"
   ],
   "outputs": [
    {
     "output_type": "execute_result",
     "data": {
      "text/plain": [
       "\"Julien Laurens says Real Madrid should be excited by the potential signing of Eduardo Camavinga from Rennes. (1:46)\\n\\nEduardo Camavinga, 18, has completed a move to Real Madrid from Rennes, having been on the radar of Europe's top clubs for a few years.\\n\\nThe midfielder, who is the youngest player since 1932 to be called up by France, shot to worldwide fame with his performances in Ligue 1 and Madrid moved to land him on Transfer Deadline Day for around €30m, one year before his Rennes contract expires.\\n\\nNow he is at the Bernabeu, what can the LaLiga side expect from the young midfielder? And just how far can his career develop?\\n\\n- Stream ESPN FC Daily on ESPN+ (U.S. only)\\n\\n- Don't have ESPN? Get instant access\\n\\nCamavinga's background\\n\\nBorn in a refugee camp in Angola, Camavinga moved to France with his parents and five siblings at the age of two. Eight years later, he was just starting out at Rennes' youth academy when the family home burnt down.\\n\\nHaving raced through youth levels, Camavinga was handed his first-team debut as a 16-year-old toward the end of the 2018-19 season. The opportunity to test his skills at Ligue 1 level was more than a token gesture; he featured in each of the remaining six games, culminating in a 90-minute appearance in a 3-1 win against Lille on the final day of the season.\\n\\nCamavinga's career has since taken off. Starting the following season as a regular, he was instrumental as Rennes finished third and qualified for the Champions League, resulting in his debut in the most prestigious club competition in Europe.\\n\\nHe received his first France under-21 cap against Georgia in November 2019, just days after receiving his citizenship and turning 17, and his rapid progress also earned him a place in the senior national team squad at just 17 years and nine months.\\n\\nCamavinga made his France debut in the UEFA Nations League game against Croatia, where he came on for the last half an hour, and his first cap was swiftly followed by his first France goal in a friendly against Ukraine the following month. He played against Croatia again, but a dip in form during the 2020-21 season saw him return to U-21 level.\\n\\nHowever, such a meteoric rise has seen the midfielder linked to a host of top clubs. Manchester United, Liverpool and Arsenal were among the admiring Premier League teams, while interest from Paris Saint-Germain has long been reported. But Real Madrid moved to snap up the talented youngster ahead of their rivals.\\n\\nEduardo Camavinga has been tipped for the top for a few years. Catherine Steenkeste/Getty Images\\n\\nPosition\\n\\nVery much a multi-purpose central midfielder, Camavinga burst onto the scene as a deep-laying playmaker and, despite his age and inexperience, was given full responsibility to express himself in the demanding role by then-Rennes head coach, Julien Stephan.\\n\\nIt was his performances as a holding midfielder that helped launch Camavinga as a rising star in Ligue 1 and for France. From the beginning of the 2020-21 season, however, the teenager predominately featured in a more advanced role, either as a No. 8 in a 4-3-3 formation, or as one of two central midfielders in a 4-4-2.\\n\\nStrengths\\n\\nFrom the beginning, it was Camavinga's maturity and confidence that stood out: A 16-year-old with the intelligence and technical ability to dictate the rhythm of the game, passing both short and long from midfield, while being able to recover the ball in tackle or interception, as well as performing his pressing duties, is not often seen.\\n\\nTor-Kristian Karlsen Tor-Kristian Karlsen is a Norwegian football scout and executive and is the former chief executive and sporting director at AS Monaco. He will write regularly for ESPN on the business of soccer and the process of scouting.\\n\\nAdd to that his excellent left foot, high precision in his passing game and great coordination, which often sees him elegantly dance his way out of crowded spaces with the ball at his feet, and it's clear why he has stirred up so much excitement.\\n\\nIn a more advanced midfield role, with slightly less space to roam, Camavinga has demonstrated tactical discipline and patience. With nearly 100 senior appearances, it is easy to forget that he only turns 19 in November, yet he has the physical, mental and technical abilities to succeed.\\n\\nAreas to improve\\n\\nIt's hard to pick out a major weakness in Camavinga's game on the back of two promising years in Ligue 1 -- the first of which was close to sensational, whereas the second was more ordinary -- but he is still in development and needs regular playing time to keep progressing.\\n\\nHe could be even more decisive in the last third, not just by chipping in with goals and assists, but also by initiating and constructing attacking moves (though one would expect Madrid have a deeper midfield role in mind for him).\\n\\nWhere he fits in at Madrid\\n\\nAs Camavinga is so smooth on the ball, able to dictate the tempo of the game and pick forward passes between the lines with the right pace and angles, it's easy to see comparisons to Luka Modric, especially as both made their way through youth ranks as attacking midfielders, and the teenager will have no better role model than the Croatia legend.\""
      ]
     },
     "metadata": {},
     "execution_count": 64
    }
   ],
   "metadata": {}
  },
  {
   "cell_type": "code",
   "execution_count": 65,
   "source": [
    "article.nlp()\r\n",
    "article.summary"
   ],
   "outputs": [
    {
     "output_type": "execute_result",
     "data": {
      "text/plain": [
       "\"Julien Laurens says Real Madrid should be excited by the potential signing of Eduardo Camavinga from Rennes.\\n(1:46)Eduardo Camavinga, 18, has completed a move to Real Madrid from Rennes, having been on the radar of Europe's top clubs for a few years.\\nHaving raced through youth levels, Camavinga was handed his first-team debut as a 16-year-old toward the end of the 2018-19 season.\\nIt was his performances as a holding midfielder that helped launch Camavinga as a rising star in Ligue 1 and for France.\\nIn a more advanced midfield role, with slightly less space to roam, Camavinga has demonstrated tactical discipline and patience.\""
      ]
     },
     "metadata": {},
     "execution_count": 65
    }
   ],
   "metadata": {}
  },
  {
   "cell_type": "code",
   "execution_count": 66,
   "source": [
    "soup = BeautifulSoup(requests.get(test_article.url).text)\r\n",
    "links = [a.get('href') for a in soup.find_all('a', href=True) if a.get('href')[0:5] == \"https\"]"
   ],
   "outputs": [],
   "metadata": {}
  },
  {
   "cell_type": "code",
   "execution_count": 67,
   "source": [
    "links"
   ],
   "outputs": [
    {
     "output_type": "execute_result",
     "data": {
      "text/plain": [
       "['https://www.espncricinfo.com/',\n",
       " 'https://www.espn.com/college-sports/basketball/recruiting/',\n",
       " 'https://www.espn.com/college-sports/football/recruiting/',\n",
       " 'https://www.espn.com/espnradio/index',\n",
       " 'https://www.espn.com/watch/',\n",
       " 'https://www.espn.com/espnplus/?om-navmethod=topnav',\n",
       " 'https://www.espn.com/soccer/team/_/id/2765/united-states',\n",
       " 'https://www.espn.com/insider/pickcenter/index?sport=soccer',\n",
       " 'https://www.vividseats.com/sports/soccer/?wsUser=717&wsVar=soccersubnav',\n",
       " 'https://www.facebook.com/dialog/share?href=https%3A%2F%2Fwww.espn.com%2Fsoccer%2Fsoccer%2Dtransfers%2Fstory%2F4466009%2Fwhat%2Deduardo%2Dcamavinga%2Doffers%2Dreal%2Dmadrid%2Dafter%2Dtransfer%2Dfrom%2Drennes&app_id=116656161708917',\n",
       " 'https://www.facebook.com/dialog/share?href=https%3A%2F%2Fwww.espn.com%2Fsoccer%2Fsoccer%2Dtransfers%2Fstory%2F4466009%2Fwhat%2Deduardo%2Dcamavinga%2Doffers%2Dreal%2Dmadrid%2Dafter%2Dtransfer%2Dfrom%2Drennes&app_id=116656161708917',\n",
       " 'https://pinterest.com/pin/create/button/?url=https%3A%2F%2Fwww.espn.com%2Fsoccer%2Fsoccer%2Dtransfers%2Fstory%2F4466009%2Fwhat%2Deduardo%2Dcamavinga%2Doffers%2Dreal%2Dmadrid%2Dafter%2Dtransfer%2Dfrom%2Drennes&description=What+Eduardo+Camavinga+offers+Real+Madrid+after+transfer+from+Rennes&media=https%3A%2F%2Fa.espncdn.com%2Fphoto%2F2021%2F0419%2Fr842877_1296x729_16-9.jpg',\n",
       " 'https://www.espn.com/soccer/player/_/id/285150/Eduardo-Camavinga',\n",
       " 'https://www.espn.com/watch/catalog/88f27099-2a08-4c9c-9792-6aa026eff3f1',\n",
       " 'https://twitter.com/Refugees/status/1432355177080795137',\n",
       " 'https://www.espn.com/soccer/player/_/id/76762/Luka-Modric',\n",
       " 'https://www.facebook.com/dialog/share?href=https%3A%2F%2Fwww.espn.com%2Fsoccer%2Fsoccer%2Dtransfers%2Fstory%2F4466009%2Fwhat%2Deduardo%2Dcamavinga%2Doffers%2Dreal%2Dmadrid%2Dafter%2Dtransfer%2Dfrom%2Drennes&app_id=116656161708917',\n",
       " 'https://disneytermsofuse.com/english/',\n",
       " 'https://privacy.thewaltdisneycompany.com/en/current-privacy-policy/',\n",
       " 'https://disneyprivacycenter.com/notice-to-california-residents/',\n",
       " 'https://disneyprivacycenter.com/kids-privacy-policy/english/',\n",
       " 'https://privacy.thewaltdisneycompany.com/en/dnsmi/',\n",
       " 'https://www.espn.com/espn/news/story?page=contact-index',\n",
       " 'https://disneyadsales.com/',\n",
       " 'https://jobs.disneycareers.com/espn']"
      ]
     },
     "metadata": {},
     "execution_count": 67
    }
   ],
   "metadata": {}
  }
 ],
 "metadata": {
  "orig_nbformat": 4,
  "language_info": {
   "name": "python",
   "version": "3.8.5",
   "mimetype": "text/x-python",
   "codemirror_mode": {
    "name": "ipython",
    "version": 3
   },
   "pygments_lexer": "ipython3",
   "nbconvert_exporter": "python",
   "file_extension": ".py"
  },
  "kernelspec": {
   "name": "python3",
   "display_name": "Python 3.8.5 64-bit ('base': conda)"
  },
  "interpreter": {
   "hash": "bdb1f293a72cda3337025d9d00554afb1343cd7218118617db03a8cb5103ebd2"
  }
 },
 "nbformat": 4,
 "nbformat_minor": 2
}