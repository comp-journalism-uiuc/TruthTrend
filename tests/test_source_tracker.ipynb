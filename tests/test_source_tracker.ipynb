{
 "cells": [
  {
   "cell_type": "code",
   "execution_count": 5,
   "source": [
    "import pandas as pd\r\n",
    "import numpy as np\r\n",
    "from newspaper import Article"
   ],
   "outputs": [],
   "metadata": {}
  },
  {
   "cell_type": "code",
   "execution_count": 3,
   "source": [
    "all_news = pd.read_csv(\"../data/all_news.csv\")\r\n",
    "test_article = all_news.iloc[50]"
   ],
   "outputs": [],
   "metadata": {}
  },
  {
   "cell_type": "code",
   "execution_count": 6,
   "source": [
    "article = Article(test_article.url)"
   ],
   "outputs": [],
   "metadata": {}
  },
  {
   "cell_type": "code",
   "execution_count": 9,
   "source": [
    "article.download()\r\n",
    "article.parse()"
   ],
   "outputs": [],
   "metadata": {}
  },
  {
   "cell_type": "code",
   "execution_count": 23,
   "source": [
    "article.images"
   ],
   "outputs": [
    {
     "output_type": "execute_result",
     "data": {
      "text/plain": [
       "{'https://www.aljazeera.com/static/media/aj-footer-logo.bac952ad.svg',\n",
       " 'https://www.aljazeera.com/wp-content/uploads/2021/08/000_9L24V8.jpg?resize=1200%2C630',\n",
       " 'https://www.aljazeera.com/wp-content/uploads/2021/08/000_9L24V8.jpg?resize=770%2C513',\n",
       " 'https://www.aljazeera.com/wp-content/uploads/2021/08/2021-07-15T114136Z_1384919816_RC2AKO9SQLMZ_RTRMADP_3_AFGHANISTAN-CONFLICT-1.jpg?resize=270%2C180',\n",
       " 'https://www.aljazeera.com/wp-content/uploads/2021/08/image-30.jpg?resize=270%2C180',\n",
       " 'https://www.aljazeera.com/wp-content/uploads/2021/08/image-41.jpg?resize=270%2C180',\n",
       " 'https://www.aljazeera.com/wp-content/uploads/2021/09/000_9M83KE.jpg?resize=170%2C113',\n",
       " 'https://www.aljazeera.com/wp-content/uploads/2021/09/000_9N89TH.jpg?resize=170%2C113',\n",
       " 'https://www.aljazeera.com/wp-content/uploads/2021/09/000_9NA2JP.jpg?resize=170%2C113',\n",
       " 'https://www.aljazeera.com/wp-content/uploads/2021/09/2017-06-06T143241Z_64769110_RC19A5214F50_RTRMADP_3_NAMIBIA-POLITICS.jpg?resize=170%2C113',\n",
       " 'https://www.aljazeera.com/wp-content/uploads/2021/09/2021-09-13T092821Z_319347603_RC2ROP9TPN3M_RTRMADP_3_CHINA-EVERGRANDE-DEBT-PROTEST.jpg?resize=170%2C113',\n",
       " 'https://www.aljazeera.com/wp-content/uploads/2021/09/2021-09-21T133159Z_272768375_RC29UP9JXV48_RTRMADP_3_UN-ASSEMBLY.jpg?resize=170%2C113',\n",
       " 'https://www.aljazeera.com/wp-content/uploads/2021/09/2021-09-21T181808Z_1967102476_RC2AUP962G3V_RTRMADP_3_BURUNDI-BLAST.jpg?resize=170%2C113',\n",
       " 'https://www.aljazeera.com/wp-content/uploads/2021/09/UN2-2.jpg?resize=170%2C113'}"
      ]
     },
     "metadata": {},
     "execution_count": 23
    }
   ],
   "metadata": {}
  },
  {
   "cell_type": "code",
   "execution_count": 13,
   "source": [
    "article.text"
   ],
   "outputs": [
    {
     "output_type": "execute_result",
     "data": {
      "text/plain": [
       "'The move comes as the embassy urges American citizens in Afghanistan to leave the country ‘immediately’.\\n\\nThe US is sending an additional 3,000 troops into Afghanistan to help evacuate some personnel from the embassy in Kabul, Biden administration officials said Thursday.\\n\\nState Department spokesperson Ned Price said the embassy will remain open despite the planned evacuations.\\n\\n“We are further reducing our civilian footprints in Kabul in light of the evolving security situation,” Price told reporters.\\n\\n“We expect to draw down to a core diplomatic presence in Afghanistan in the coming weeks. In order to facilitate this reduction, the Department of Defense has been able to temporarily deploy additional personnel to Hamid Karzai International Airport.”\\n\\nPentagon spokesperson John Kirby later confirmed that the US will send 3,000 troops to assist with the evacuation of embassy personnel as well as Afghan US special immigrant visa (SIV) applicants.\\n\\nHe stressed, however, that the troops will not be staying in Afghanistan for a long time.\\n\\n“This is a temporary mission with a narrow focus,” he said, warning that US forces will respond if they come under attack.\\n\\n“As with all deployments of our troops into harm’s way, our commanders have the inherent right of self-defense, and any attack on them can and will be met with a forceful and an appropriate response,” Kirby said at a news briefing.\\n\\n\\n\\n\\n\\nReuters and the Associated Press had reported the troop deployment citing US officials earlier in the day.\\n\\nThe troops will provide ground and air support for the processing and security of Americans being sent to the Kabul airport, said one official.\\n\\nThe move suggests a lack of confidence by the Biden administration in the Afghan government’s ability to provide sufficient diplomatic security in the capital as the Taliban mounts an offensive that has rapidly conquered key cities in recent days.\\n\\nThe Pentagon had kept about 650 troops in Afghanistan to support US diplomatic security, including at the airport. Kirby said the 3,000 troops are in addition to the US forces remaining in the country.\\n\\nUS embassy tells Americans to leave ‘immediately’\\n\\nEarlier Thursday, the US embassy in Kabul urged American citizens to leave Afghanistan as soon as possible amid the Taliban’s advance against government forces throughout the country.\\n\\nThe embassy issued on Thursday the second security alert within a week calling on Americans to get out of the country.\\n\\n“The US Embassy urges US citizens to leave Afghanistan immediately using available commercial flight options,” it said in a statement.\\n\\nThe alert included instructions to contact the embassy for those who cannot afford a flight or are waiting for a child or a spouse to get their visa to leave Afghanistan. It also warned that the embassy’s capacity to aid US citizens is “extremely limited”.\\n\\nPrior to the reports about US military assistance with evacuations, the embassy warned US citizens not to wait for announcements of evacuation help.\\n\\nTaliban advances\\n\\nEarlier on Thursday, the Taliban continued its sweeping military advance, capturing the capital of Ghazni province, about 150km (80 miles) southwest of Kabul – the 10th provincial capital taken by the group in a week.\\n\\nThe group is also closing in on Kandahar, the country’s second-largest city, as fighting intensifies.\\n\\nOn Wednesday, US officials cited an intelligence assessment predicting that the capital Kabul could fall to Taliban fighters in 90 days with the last US combat troops set to withdraw from the country by the end of August.\\n\\n\\n\\n\\n\\nPrice also defended Washington’s record in the war-torn country at a press briefing on Wednesday. He said the US is working “more than any country to try to bring stability, security, and ultimately prosperity to the people of Afghanistan”.\\n\\nA US-led international coalition invaded Afghanistan in 2001 in response to the 9/11 attacks in New York and Washington. The Taliban, which controlled Kabul at the time, had harboured Osama bin Laden, the leader of al-Qaeda.\\n\\nAmerican and allied forces swiftly took control of Kabul and other major cities, but struggled during the following 20 years to defeat a rebellion by Taliban fighters.\\n\\nAs the US pulls its forces out of the country, Price called on Afghans to resolve the crisis through diplomacy.\\n\\nAn Afghan official told Al Jazeera on Thursday that the government in Kabul proposed an agreement to share power with the Taliban in exchange for halting the violence.'"
      ]
     },
     "metadata": {},
     "execution_count": 13
    }
   ],
   "metadata": {}
  },
  {
   "cell_type": "code",
   "execution_count": 14,
   "source": [
    "article.nlp()\r\n",
    "article.summary"
   ],
   "outputs": [
    {
     "output_type": "execute_result",
     "data": {
      "text/plain": [
       "'The move comes as the embassy urges American citizens in Afghanistan to leave the country ‘immediately’.\\nThe US is sending an additional 3,000 troops into Afghanistan to help evacuate some personnel from the embassy in Kabul, Biden administration officials said Thursday.\\n“We are further reducing our civilian footprints in Kabul in light of the evolving security situation,” Price told reporters.\\nUS embassy tells Americans to leave ‘immediately’Earlier Thursday, the US embassy in Kabul urged American citizens to leave Afghanistan as soon as possible amid the Taliban’s advance against government forces throughout the country.\\n“The US Embassy urges US citizens to leave Afghanistan immediately using available commercial flight options,” it said in a statement.'"
      ]
     },
     "metadata": {},
     "execution_count": 14
    }
   ],
   "metadata": {}
  },
  {
   "cell_type": "code",
   "execution_count": 15,
   "source": [
    "article.keywords"
   ],
   "outputs": [
    {
     "output_type": "execute_result",
     "data": {
      "text/plain": [
       "['afghanistan',\n",
       " 'troops',\n",
       " 'forces',\n",
       " 'kabul',\n",
       " 'staff',\n",
       " 'evacuate',\n",
       " 'sending',\n",
       " 'taliban',\n",
       " 'security',\n",
       " 'help',\n",
       " 'leave',\n",
       " 'country',\n",
       " 'embassy',\n",
       " 'citizens']"
      ]
     },
     "metadata": {},
     "execution_count": 15
    }
   ],
   "metadata": {}
  }
 ],
 "metadata": {
  "orig_nbformat": 4,
  "language_info": {
   "name": "python",
   "version": "3.8.5",
   "mimetype": "text/x-python",
   "codemirror_mode": {
    "name": "ipython",
    "version": 3
   },
   "pygments_lexer": "ipython3",
   "nbconvert_exporter": "python",
   "file_extension": ".py"
  },
  "kernelspec": {
   "name": "python3",
   "display_name": "Python 3.8.5 64-bit ('base': conda)"
  },
  "interpreter": {
   "hash": "bdb1f293a72cda3337025d9d00554afb1343cd7218118617db03a8cb5103ebd2"
  }
 },
 "nbformat": 4,
 "nbformat_minor": 2
}