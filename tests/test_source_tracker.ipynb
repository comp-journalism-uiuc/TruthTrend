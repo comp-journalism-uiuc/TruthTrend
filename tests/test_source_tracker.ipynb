{
 "cells": [
  {
   "cell_type": "code",
   "execution_count": 142,
   "source": [
    "import pandas as pd\r\n",
    "import numpy as np\r\n",
    "from random import randint\r\n",
    "from newspaper import Article\r\n",
    "import re\r\n",
    "\r\n",
    "from urllib.parse import urlparse\r\n",
    "from bs4 import BeautifulSoup\r\n",
    "import requests"
   ],
   "outputs": [],
   "metadata": {}
  },
  {
   "cell_type": "code",
   "execution_count": 129,
   "source": [
    "all_news = pd.read_csv(\"../data/all_news.csv\")\r\n",
    "test_article = all_news.iloc[15000]\r\n",
    "test_article.url"
   ],
   "outputs": [
    {
     "output_type": "execute_result",
     "data": {
      "text/plain": [
       "'https://www.espn.com/soccer/soccer-transfers/story/4466009/what-eduardo-camavinga-offers-real-madrid-after-transfer-from-rennes'"
      ]
     },
     "metadata": {},
     "execution_count": 129
    }
   ],
   "metadata": {}
  },
  {
   "cell_type": "code",
   "execution_count": 189,
   "source": [
    "article = Article(test_article.url)"
   ],
   "outputs": [],
   "metadata": {}
  },
  {
   "cell_type": "code",
   "execution_count": 190,
   "source": [
    "article.download()\r\n",
    "article.parse()"
   ],
   "outputs": [],
   "metadata": {}
  },
  {
   "cell_type": "code",
   "execution_count": 12,
   "source": [
    "article.images"
   ],
   "outputs": [
    {
     "output_type": "execute_result",
     "data": {
      "text/plain": [
       "{'data:image/svg+xml;base64,PD94bWwgdmVyc2lvbj0iMS4wIiBlbmNvZGluZz0iVVRGLTgiPz48c3ZnIHdpZHRoPSI5OTk5OXB4IiBoZWlnaHQ9Ijk5OTk5cHgiIHZpZXdCb3g9IjAgMCA5OTk5OSA5OTk5OSIgdmVyc2lvbj0iMS4xIiB4bWxucz0iaHR0cDovL3d3dy53My5vcmcvMjAwMC9zdmciIHhtbG5zOnhsaW5rPSJodHRwOi8vd3d3LnczLm9yZy8xOTk5L3hsaW5rIj48ZyBzdHJva2U9Im5vbmUiIGZpbGw9Im5vbmUiIGZpbGwtb3BhY2l0eT0iMCI+PHJlY3QgeD0iMCIgeT0iMCIgd2lkdGg9Ijk5OTk5IiBoZWlnaHQ9Ijk5OTk5Ij48L3JlY3Q+IDwvZz4gPC9zdmc+',\n",
       " 'https://a.espncdn.com/combiner/i?img=%2Fredesign%2Fassets%2Fimg%2Ficons%2FESPN%2Dicon%2Dsoccer.png&w=80&h=80&scale=crop&cquality=40&location=origin',\n",
       " 'https://a.espncdn.com/combiner/i?img=/photo/2020/0901/r739343_1296x1296_1-1.jpg&w=130&h=130&scale=crop&location=center',\n",
       " 'https://a.espncdn.com/combiner/i?img=/photo/2021/0420/soc_36-under-21_1x1.jpg&w=130&h=130&scale=crop&location=center',\n",
       " 'https://a.espncdn.com/combiner/i?img=/photo/2021/0810/r894037_1296x1296_1-1.jpg&w=130&h=130&scale=crop&location=center',\n",
       " 'https://a2.espncdn.com/combiner/i?img=%2Fphoto%2F2021%2F0419%2Fr842877_1296x729_16%2D9.jpg'}"
      ]
     },
     "metadata": {},
     "execution_count": 12
    }
   ],
   "metadata": {}
  },
  {
   "cell_type": "code",
   "execution_count": 64,
   "source": [
    "article.text"
   ],
   "outputs": [
    {
     "output_type": "execute_result",
     "data": {
      "text/plain": [
       "\"Julien Laurens says Real Madrid should be excited by the potential signing of Eduardo Camavinga from Rennes. (1:46)\\n\\nEduardo Camavinga, 18, has completed a move to Real Madrid from Rennes, having been on the radar of Europe's top clubs for a few years.\\n\\nThe midfielder, who is the youngest player since 1932 to be called up by France, shot to worldwide fame with his performances in Ligue 1 and Madrid moved to land him on Transfer Deadline Day for around €30m, one year before his Rennes contract expires.\\n\\nNow he is at the Bernabeu, what can the LaLiga side expect from the young midfielder? And just how far can his career develop?\\n\\n- Stream ESPN FC Daily on ESPN+ (U.S. only)\\n\\n- Don't have ESPN? Get instant access\\n\\nCamavinga's background\\n\\nBorn in a refugee camp in Angola, Camavinga moved to France with his parents and five siblings at the age of two. Eight years later, he was just starting out at Rennes' youth academy when the family home burnt down.\\n\\nHaving raced through youth levels, Camavinga was handed his first-team debut as a 16-year-old toward the end of the 2018-19 season. The opportunity to test his skills at Ligue 1 level was more than a token gesture; he featured in each of the remaining six games, culminating in a 90-minute appearance in a 3-1 win against Lille on the final day of the season.\\n\\nCamavinga's career has since taken off. Starting the following season as a regular, he was instrumental as Rennes finished third and qualified for the Champions League, resulting in his debut in the most prestigious club competition in Europe.\\n\\nHe received his first France under-21 cap against Georgia in November 2019, just days after receiving his citizenship and turning 17, and his rapid progress also earned him a place in the senior national team squad at just 17 years and nine months.\\n\\nCamavinga made his France debut in the UEFA Nations League game against Croatia, where he came on for the last half an hour, and his first cap was swiftly followed by his first France goal in a friendly against Ukraine the following month. He played against Croatia again, but a dip in form during the 2020-21 season saw him return to U-21 level.\\n\\nHowever, such a meteoric rise has seen the midfielder linked to a host of top clubs. Manchester United, Liverpool and Arsenal were among the admiring Premier League teams, while interest from Paris Saint-Germain has long been reported. But Real Madrid moved to snap up the talented youngster ahead of their rivals.\\n\\nEduardo Camavinga has been tipped for the top for a few years. Catherine Steenkeste/Getty Images\\n\\nPosition\\n\\nVery much a multi-purpose central midfielder, Camavinga burst onto the scene as a deep-laying playmaker and, despite his age and inexperience, was given full responsibility to express himself in the demanding role by then-Rennes head coach, Julien Stephan.\\n\\nIt was his performances as a holding midfielder that helped launch Camavinga as a rising star in Ligue 1 and for France. From the beginning of the 2020-21 season, however, the teenager predominately featured in a more advanced role, either as a No. 8 in a 4-3-3 formation, or as one of two central midfielders in a 4-4-2.\\n\\nStrengths\\n\\nFrom the beginning, it was Camavinga's maturity and confidence that stood out: A 16-year-old with the intelligence and technical ability to dictate the rhythm of the game, passing both short and long from midfield, while being able to recover the ball in tackle or interception, as well as performing his pressing duties, is not often seen.\\n\\nTor-Kristian Karlsen Tor-Kristian Karlsen is a Norwegian football scout and executive and is the former chief executive and sporting director at AS Monaco. He will write regularly for ESPN on the business of soccer and the process of scouting.\\n\\nAdd to that his excellent left foot, high precision in his passing game and great coordination, which often sees him elegantly dance his way out of crowded spaces with the ball at his feet, and it's clear why he has stirred up so much excitement.\\n\\nIn a more advanced midfield role, with slightly less space to roam, Camavinga has demonstrated tactical discipline and patience. With nearly 100 senior appearances, it is easy to forget that he only turns 19 in November, yet he has the physical, mental and technical abilities to succeed.\\n\\nAreas to improve\\n\\nIt's hard to pick out a major weakness in Camavinga's game on the back of two promising years in Ligue 1 -- the first of which was close to sensational, whereas the second was more ordinary -- but he is still in development and needs regular playing time to keep progressing.\\n\\nHe could be even more decisive in the last third, not just by chipping in with goals and assists, but also by initiating and constructing attacking moves (though one would expect Madrid have a deeper midfield role in mind for him).\\n\\nWhere he fits in at Madrid\\n\\nAs Camavinga is so smooth on the ball, able to dictate the tempo of the game and pick forward passes between the lines with the right pace and angles, it's easy to see comparisons to Luka Modric, especially as both made their way through youth ranks as attacking midfielders, and the teenager will have no better role model than the Croatia legend.\""
      ]
     },
     "metadata": {},
     "execution_count": 64
    }
   ],
   "metadata": {}
  },
  {
   "cell_type": "code",
   "execution_count": 65,
   "source": [
    "article.nlp()\r\n",
    "article.summary"
   ],
   "outputs": [
    {
     "output_type": "execute_result",
     "data": {
      "text/plain": [
       "\"Julien Laurens says Real Madrid should be excited by the potential signing of Eduardo Camavinga from Rennes.\\n(1:46)Eduardo Camavinga, 18, has completed a move to Real Madrid from Rennes, having been on the radar of Europe's top clubs for a few years.\\nHaving raced through youth levels, Camavinga was handed his first-team debut as a 16-year-old toward the end of the 2018-19 season.\\nIt was his performances as a holding midfielder that helped launch Camavinga as a rising star in Ligue 1 and for France.\\nIn a more advanced midfield role, with slightly less space to roam, Camavinga has demonstrated tactical discipline and patience.\""
      ]
     },
     "metadata": {},
     "execution_count": 65
    }
   ],
   "metadata": {}
  },
  {
   "cell_type": "code",
   "execution_count": 278,
   "source": [
    "def get_external_links(url):\r\n",
    "    domain_name = urlparse(url).netloc\r\n",
    "\r\n",
    "    if domain_name == 't.co':\r\n",
    "        domain_name = 'twitter'\r\n",
    "        \r\n",
    "    soup = BeautifulSoup(requests.get(url).content)\r\n",
    "    text = soup.findAll('p')\r\n",
    "\r\n",
    "    external_links = [a.attrs.get('href') for article in text for a in article.findAll('a', href=True) if domain_name not in a.attrs.get('href') and a.attrs.get('href')[0:5] == 'https']\r\n",
    "    return external_links, domain_name"
   ],
   "outputs": [],
   "metadata": {}
  },
  {
   "cell_type": "code",
   "execution_count": 276,
   "source": [
    "MAX_DEPTH = 5\r\n",
    "def find_source(url, level):\r\n",
    "    links, domain_name = get_external_links(url)\r\n",
    "    if (len(links) == 0 or level >= MAX_DEPTH):\r\n",
    "        all_sources.append(url)\r\n",
    "        return\r\n",
    "    level += 1\r\n",
    "    print(level)\r\n",
    "    for link in links:\r\n",
    "        find_source(link, level)"
   ],
   "outputs": [],
   "metadata": {}
  },
  {
   "cell_type": "code",
   "execution_count": 280,
   "source": [
    "test_url = all_news.iloc[randint(0, len(all_news) - 1)].url\r\n",
    "test_url"
   ],
   "outputs": [
    {
     "output_type": "execute_result",
     "data": {
      "text/plain": [
       "'https://dailycaller.com/2021/08/17/the-david-hookstead-show-afghanistan-hope-solo-megan-rapinoe-bill-maher-woke-police/'"
      ]
     },
     "metadata": {},
     "execution_count": 280
    }
   ],
   "metadata": {}
  },
  {
   "cell_type": "code",
   "execution_count": null,
   "source": [
    "level = 0\r\n",
    "all_sources = []\r\n",
    "find_source(test_url, level)\r\n",
    "all_sources = list(dict.fromkeys(all_sources))\r\n",
    "all_sources"
   ],
   "outputs": [],
   "metadata": {}
  },
  {
   "cell_type": "code",
   "execution_count": 284,
   "source": [
    "all_sources"
   ],
   "outputs": [
    {
     "output_type": "execute_result",
     "data": {
      "text/plain": [
       "['https://www.espn.com/soccer/report?gameId=601579',\n",
       " 'https://t.co/vtbKyAPdYe',\n",
       " 'https://twitter.com/dhookstead/status/1160029873953562624?ref_src=twsrc%5Etfw',\n",
       " 'https://twitter.com/dhookstead',\n",
       " 'https://www.instagram.com/david_hookstead/',\n",
       " 'https://apnews.com/article/2020-tokyo-olympics-sports-race-and-ethnicity-racial-injustice-soccer-18c738309b73ef7c2237e948f1870ca7',\n",
       " 'https://t.co/9iyIOtaHEB',\n",
       " 'https://twitter.com/TheFirstonTV/status/1423286855311642639?ref_src=twsrc%5Etfw',\n",
       " 'https://www.cnn.com/2021/07/21/sport/olympics-womens-soccer-teams-take-a-knee/index.html',\n",
       " 'https://twitter.com/newsmax?ref_src=twsrc%5Etfw',\n",
       " 'https://t.co/oMCKWirmDB',\n",
       " 'https://twitter.com/bennyjohnson/status/1419699060391485451?ref_src=twsrc%5Etfw',\n",
       " 'https://twitter.com/iocmedia?ref_src=twsrc%5Etfw',\n",
       " 'https://twitter.com/hashtag/Tokyo2020?src=hash&ref_src=twsrc%5Etfw',\n",
       " 'https://t.co/hgao1mZm4c',\n",
       " 'https://twitter.com/MartinJWDixon/status/1417954779230265345?ref_src=twsrc%5Etfw',\n",
       " 'https://sports.yahoo.com/megan-rapinoe-is-a-walking-protest-162416461.html',\n",
       " 'https://www.theblaze.com/news/soccer-star-snubs-national-anthem',\n",
       " 'https://twitter.com/MeredithLClark/status/1138519951885705216?ref_src=twsrc%5Etfw',\n",
       " 'https://twitter.com/mPinoe?ref_src=twsrc%5Etfw',\n",
       " 'https://twitter.com/hashtag/USWNT?src=hash&ref_src=twsrc%5Etfw',\n",
       " 'https://twitter.com/SwamiG8R/status/1138520352202661894?ref_src=twsrc%5Etfw',\n",
       " 'https://www.nytimes.com/2019/06/10/magazine/womens-soccer-inequality-pay.html',\n",
       " 'https://twitter.com/ShelbyTalcott',\n",
       " 'https://t.co/HR4q75G8D3',\n",
       " 'https://twitter.com/dhookstead/status/1422253629529108483?ref_src=twsrc%5Etfw',\n",
       " 'https://t.co/0OKdR14E7S',\n",
       " 'https://twitter.com/USWNT/status/1423672768193724418?ref_src=twsrc%5Etfw',\n",
       " 'https://www.espn.co.uk/football/player/_/id/219768/jessie-fleming',\n",
       " 'https://www.espn.co.uk/football/player/_/id/158729/stephanie-labbe',\n",
       " 'https://www.espn.co.uk/football/player/_/id/158785/carli-lloyd',\n",
       " 'https://www.espn.co.uk/football/player/_/id/219045/julie-ertz',\n",
       " 'https://www.espn.co.uk/football/player/_/id/243052/tierna-davidson',\n",
       " 'https://www.espn.co.uk/football/player/_/id/235714/deanne-rose',\n",
       " 'https://t.co/axXHHhCOj3',\n",
       " 'https://twitter.com/barstoolsports/status/1422135769897095171?ref_src=twsrc%5Etfw',\n",
       " 'https://www.espn.com/olympics/story/_/id/31854250/sweden-stuns-us-3-0-women-soccer-olympics',\n",
       " 'https://twitter.com/USWNT/status/1417770290268966914?ref_src=twsrc%5Etfw',\n",
       " 'https://t.co/7FoZ7WNP7W',\n",
       " 'https://twitter.com/SportsCenter/status/1417823952433553410?ref_src=twsrc%5Etfw',\n",
       " 'https://smokeroom.com/2021/02/22/the-united-states-womens-national-soccer-team-national-anthem-kneeling-done/',\n",
       " 'https://t.co/kWMPQo1syP',\n",
       " 'https://twitter.com/FOXSoccer/status/1417792400517259269?ref_src=twsrc%5Etfw',\n",
       " 'https://t.co/QC7N2g4OJp',\n",
       " 'https://twitter.com/DailyCaller/status/1374833662555000833?ref_src=twsrc%5Etfw',\n",
       " 'https://twitter.com/hashtag/CANWNT?src=hash&ref_src=twsrc%5Etfw',\n",
       " 'https://twitter.com/hashtag/RiseHigher?src=hash&ref_src=twsrc%5Etfw',\n",
       " 'https://t.co/8a8ZKYGVoB',\n",
       " 'https://twitter.com/CanadaSoccerEN/status/1422134757379428352?ref_src=twsrc%5Etfw',\n",
       " 'https://t.co/EudG9Hz7Yb',\n",
       " 'https://twitter.com/SportsCenter/status/1422136143299194885?ref_src=twsrc%5Etfw',\n",
       " 'https://dailycaller.com/2021/07/22/australia-chile-international-olympic-committee-olympics-tokyo/',\n",
       " 'https://dailycaller.com/2021/04/21/kneeling-raising-fist-protest-tokyo-olympics-not-tolerated/',\n",
       " 'https://dailycaller.com/2021/07/07/colin-kaepernick-gwen-berry-carlos-delgado-national-anthem-protests-olympics/',\n",
       " 'https://dailycaller.com/2019/08/11/david-hookstead-wisconsin-badgers-college-football-king-in-the-north/',\n",
       " 'https://twitter.com/DailyCaller/status/1424112786100178948?ref_src=twsrc%5Etfw',\n",
       " 'https://www.youtube.com/watch?v=K-c9h44U2F0',\n",
       " 'https://t.co/TWvEXXidxE',\n",
       " 'https://twitter.com/dhookstead/status/1420518460912701440?ref_src=twsrc%5Etfw',\n",
       " 'https://www.goal.com/en-ph/news/trump-v-rapinoe-uswnt-again-takes-center-stage-in-culture/1a1rb4lx0yx2k16i8wu5ya94we',\n",
       " 'https://twitter.com/dhookstead?ref_src=twsrc%5Etfw',\n",
       " 'https://t.co/yDcuQ86XJ6',\n",
       " 'https://twitter.com/DailyCaller/status/1424773718761381895?ref_src=twsrc%5Etfw',\n",
       " 'https://apnews.com/hub/ap-top-25-college-football-poll',\n",
       " 'https://www.actionnetwork.com/ncaaf/2021-heisman-odds-spencer-rattler-uiagalelei-young-howell-corral',\n",
       " 'https://twitter.com/HeismanTrophy?ref_src=twsrc%5Etfw',\n",
       " 'https://twitter.com/betonline_ag?ref_src=twsrc%5Etfw',\n",
       " 'https://twitter.com/colecubelic/status/1419753324098867203?ref_src=twsrc%5Etfw',\n",
       " 'https://sports.yahoo.com/preseason-ap-top-25-poll-041429542.html',\n",
       " 'https://smokeroom.com/2021/07/14/mission-bbq-sponsorship-wisconsin-offensive-line/',\n",
       " 'https://www.instagram.com/p/CQeP74Qjbej/?utm_source=ig_embed&utm_campaign=loading',\n",
       " 'https://www.instagram.com/p/CNf_4szrZ5x/?utm_source=ig_embed&utm_campaign=loading',\n",
       " 'https://www.instagram.com/p/CPlnkBKDoaa/?utm_source=ig_embed&utm_campaign=loading',\n",
       " 'https://www.instagram.com/p/CNN8aJSHiqn/?utm_source=ig_embed&utm_campaign=loading',\n",
       " 'https://smokeroom.com/2021/07/13/reddit-debate-next-first-time-national-champion-college-football/',\n",
       " 'https://www.instagram.com/p/CL7f8BhAZf-/?utm_source=ig_embed&utm_campaign=loading',\n",
       " 'https://smokeroom.com/2021/07/19/yahoo-sports-ap-top-25-preseason-prediction-wisconsin/',\n",
       " 'https://www.instagram.com/p/CRjYA7VjsfU/?utm_source=ig_embed&utm_campaign=loading',\n",
       " 'https://twitter.com/colecubelic/status/1419753324983820289?ref_src=twsrc%5Etfw',\n",
       " 'https://www.instagram.com/p/CSSICtKrJ6i/?utm_source=ig_embed&utm_campaign=loading',\n",
       " 'https://www.instagram.com/p/CSb_mDyLYyD/?utm_source=ig_embed&utm_campaign=loading',\n",
       " 'https://lsutigerswire.usatoday.com/2021/04/05/could-we-see-lsus-derek-stingley-jr-on-offense-this-season/',\n",
       " 'https://theathletic.com/1938659/2020/07/21/bruce-feldmans-freaks-list-2019-college-football-top-athletic-performances-2/',\n",
       " 'https://247sports.com/Player/Will-Anderson-46053865/',\n",
       " 'https://t.co/oJCgjfCR8r',\n",
       " 'https://twitter.com/PFF_College/status/1409513738038878214?ref_src=twsrc%5Etfw',\n",
       " 'https://smokeroom.com/2020/10/04/oklahoma-iowa-state-upset-highlights/',\n",
       " 'https://www.instagram.com/p/CH8Q_VEDU84/?utm_source=ig_embed&utm_campaign=loading',\n",
       " 'https://www.instagram.com/p/CPoZfFJF5fU/?utm_source=ig_embed&utm_campaign=loading',\n",
       " 'https://www.espn.com/college-football/boxscore?gameId=401236054',\n",
       " 'https://www.instagram.com/p/CFDiB7RhJTy/?utm_source=ig_embed&utm_campaign=loading',\n",
       " 'https://t.co/rHEQrfYVif',\n",
       " 'https://twitter.com/AthleteSwag/status/1305125626106568704?ref_src=twsrc%5Etfw',\n",
       " 'https://www.instagram.com/p/CM8KKgisFGW/?utm_source=ig_embed&utm_campaign=loading',\n",
       " 'https://www.instagram.com/p/CSiSjhqr0wf/?utm_source=ig_embed&utm_campaign=loading',\n",
       " 'https://www.instagram.com/p/CSSqULPrs3h/?utm_source=ig_embed&utm_campaign=loading',\n",
       " 'https://www.usatoday.com/sports/ncaaf/polls/coaches-poll/',\n",
       " 'https://amp.smokeroom.com/2021/08/09/florida-state-seminoles-bobby-bowden-video',\n",
       " 'https://smokeroom.com/2021/08/08/bobby-bowden-dead-florida-state-91/',\n",
       " 'https://www.instagram.com/tv/CSUwc5bNv8R/?utm_source=ig_embed&utm_campaign=loading',\n",
       " 'https://t.co/hBWgr15zuo',\n",
       " 'https://twitter.com/RyanWVTM13/status/1424465871905361925?ref_src=twsrc%5Etfw',\n",
       " 'https://www.instagram.com/p/CSWsJDPNz4f/?utm_source=ig_embed&utm_campaign=loading',\n",
       " 'https://www.instagram.com/p/CST4X8ztkv_/?utm_source=ig_embed&utm_campaign=loading',\n",
       " 'https://www.instagram.com/p/CST_SBsNHsv/?utm_source=ig_embed&utm_campaign=loading',\n",
       " 'https://smokeroom.com/2021/08/02/report-quarterback-quinn-ewers-enrolling-early-ohio-state-buckeyes/',\n",
       " 'https://twitter.com/HolyKombucha?ref_src=twsrc%5Etfw',\n",
       " 'https://t.co/ZWmDoZlz6h',\n",
       " 'https://twitter.com/QuinnEwers/status/1424854573840207872?ref_src=twsrc%5Etfw',\n",
       " 'https://smokeroom.com/2021/06/02/ohio-state-football-quinn-ewers-mullet-photos/',\n",
       " 'https://www.instagram.com/p/CRXoVs2AI7H/?utm_source=ig_embed&utm_campaign=loading',\n",
       " 'https://www.instagram.com/p/CQMQHDZgQ8v/?utm_source=ig_embed&utm_campaign=loading',\n",
       " 'https://smokeroom.com/2021/08/09/saturday-tradition-wisconsin-18th-preseason/',\n",
       " 'https://t.co/0tp76Qt1Xn',\n",
       " 'https://twitter.com/BadgerFootball/status/1424868594257567745?ref_src=twsrc%5Etfw',\n",
       " 'https://www.instagram.com/p/CSW1ciKtU96/?utm_source=ig_embed&utm_campaign=loading',\n",
       " 'https://smokeroom.com/2021/08/08/wisconsin-badgers-fall-training-camp-videos-photos/',\n",
       " 'https://www.instagram.com/p/CSP_RbDnIG2/?utm_source=ig_embed&utm_campaign=loading',\n",
       " 'https://twitter.com/Brett_McMurphy/status/1425126712803741699?ref_src=twsrc%5Etfw',\n",
       " 'https://www.instagram.com/p/CSP2xoULLvK/?utm_source=ig_embed&utm_campaign=loading',\n",
       " 'https://saturdaytradition.com/big-ten-football/saturday-traditions-preseason-top-25-for-2021/',\n",
       " 'https://t.co/EbSjXo7LnK',\n",
       " 'https://twitter.com/dhookstead/status/1422323826600419332?ref_src=twsrc%5Etfw',\n",
       " 'https://www.instagram.com/p/CSXxKJfNfXJ/?utm_source=ig_embed&utm_campaign=loading',\n",
       " 'https://t.co/F2LZaHs8EK',\n",
       " 'https://twitter.com/dhookstead/status/1425149502030233601?ref_src=twsrc%5Etfw',\n",
       " 'https://www.espn.com/college-football/story/_/id/31921071/college-football-preseason-power-rankings-alabama-else-starts-no-1',\n",
       " 'https://t.co/CPMuHvrcJu',\n",
       " 'https://twitter.com/dhookstead/status/1422729448202309638?ref_src=twsrc%5Etfw',\n",
       " 'https://t.co/n6ItTtcE6D',\n",
       " 'https://twitter.com/bigxiicountry/status/1422708628734238725?ref_src=twsrc%5Etfw',\n",
       " 'https://www.instagram.com/p/CNxtNQJrTzv/?utm_source=ig_embed&utm_campaign=loading',\n",
       " 'https://www.instagram.com/p/CO_c8j6FwaD/?utm_source=ig_embed&utm_campaign=loading',\n",
       " 'https://smokeroom.com/2021/07/13/yellowstone-no-major-emmy-nominations/',\n",
       " 'https://twitter.com/hashtag/YellowstoneTV?src=hash&ref_src=twsrc%5Etfw',\n",
       " 'https://t.co/TzqCtyyNlW',\n",
       " 'https://twitter.com/Yellowstone/status/1416140582842404870?ref_src=twsrc%5Etfw',\n",
       " 'https://www.instagram.com/p/CQJ7g5jla0k/?utm_source=ig_embed&utm_campaign=loading',\n",
       " 'https://t.co/kBhlJb4SbV',\n",
       " 'https://twitter.com/Yellowstone/status/1410674566532263939?ref_src=twsrc%5Etfw',\n",
       " 'https://deadline.com/2021/07/yellowstone-season-four-november-jacki-weaver-piper-perabo-kathryn-kelly-finn-little-taylor-sheridan-kevin-costner-prequel-august-23-production-start-1234774887/',\n",
       " 'https://www.instagram.com/p/CEKmkC1D-qq/?utm_source=ig_embed&utm_campaign=loading',\n",
       " 'https://www.instagram.com/p/CDhnniJHykq/?utm_source=ig_embed&utm_campaign=loading',\n",
       " 'https://www.instagram.com/p/CQy6ebLBaeS/?utm_source=ig_embed&utm_campaign=loading',\n",
       " 'https://www.instagram.com/p/CQ_eTRWptK8/?utm_source=ig_embed&utm_campaign=loading',\n",
       " 'https://www.instagram.com/tv/CH5-jHbHMq-/?utm_source=ig_embed&utm_campaign=loading',\n",
       " 'https://twitter.com/Yellowstone?ref_src=twsrc%5Etfw',\n",
       " 'https://t.co/YxUJYbM11M',\n",
       " 'https://twitter.com/dhookstead/status/1415464256695308288?ref_src=twsrc%5Etfw',\n",
       " 'https://www.youtube.com/watch?v=xGNQto25qkE',\n",
       " 'https://pagesix.com/2019/01/04/hamilton-stars-anthony-ramos-and-jasmine-cephas-jones-are-engaged/',\n",
       " 'https://www.emmys.com/news/awards-news/210630-nominations',\n",
       " 'https://twitter.com/TelevisionAcad/status/1414622345713446919',\n",
       " 'https://www.hollywoodreporter.com/tv/tv-news/cedric-the-entertainer-emmy-host-1234980741/',\n",
       " 'https://www.instagram.com/p/CRR0xV5gdrI/',\n",
       " 'https://www.instagram.com/p/CHdNa26BD_n/?utm_source=ig_embed&utm_campaign=loading',\n",
       " 'https://www.instagram.com/p/CHRFflqlSMJ/?utm_source=ig_embed&utm_campaign=loading',\n",
       " 'https://www.instagram.com/p/CEMUsFyJhZr/?utm_source=ig_embed&utm_campaign=loading',\n",
       " 'https://www.instagram.com/p/CRPc9zpr4iX/?utm_source=ig_embed&utm_campaign=loading',\n",
       " 'https://www.instagram.com/p/CBuFP7wpX7h/?utm_source=ig_embed&utm_campaign=loading',\n",
       " 'https://www.instagram.com/p/B1C3GVMFk3V/?utm_source=ig_embed&utm_campaign=loading',\n",
       " 'https://t.co/yY8dyuc10V',\n",
       " 'https://twitter.com/Yellowstone/status/1418677300393136132?ref_src=twsrc%5Etfw',\n",
       " 'https://smokeroom.com/2021/07/17/yellowstone-life-according-to-jimmy-video/',\n",
       " 'https://www.cheatsheet.com/entertainment/yellowstone-cole-hauser-teases-season-5-amid-season-4-delay.html/',\n",
       " 'https://nypost.com/2021/07/13/emmy-nominations-2021-complete-list-of-nominees-announced/',\n",
       " 'https://smokeroom.com/2020/11/23/yellowstone-season-3-recap-video/',\n",
       " 'https://smokeroom.com/2020/08/22/yellowstone-season-3-finale-cast-interviews/',\n",
       " 'https://www.instagram.com/p/CR7Od7OHjPV/?utm_source=ig_embed&utm_campaign=loading']"
      ]
     },
     "metadata": {},
     "execution_count": 284
    }
   ],
   "metadata": {}
  }
 ],
 "metadata": {
  "orig_nbformat": 4,
  "language_info": {
   "name": "python",
   "version": "3.8.5",
   "mimetype": "text/x-python",
   "codemirror_mode": {
    "name": "ipython",
    "version": 3
   },
   "pygments_lexer": "ipython3",
   "nbconvert_exporter": "python",
   "file_extension": ".py"
  },
  "kernelspec": {
   "name": "python3",
   "display_name": "Python 3.8.5 64-bit ('base': conda)"
  },
  "interpreter": {
   "hash": "bdb1f293a72cda3337025d9d00554afb1343cd7218118617db03a8cb5103ebd2"
  }
 },
 "nbformat": 4,
 "nbformat_minor": 2
}